{
 "cells": [
  {
   "cell_type": "markdown",
   "metadata": {},
   "source": [
    "# Real Feedback For Product-Focused Companies"
   ]
  },
  {
   "cell_type": "markdown",
   "metadata": {},
   "source": [
    "<b>Authors:</b> John Newcomb, Doug Mill, Andrew Marinelli"
   ]
  },
  {
   "cell_type": "markdown",
   "metadata": {},
   "source": [
    "## Overview"
   ]
  },
  {
   "cell_type": "markdown",
   "metadata": {},
   "source": [
    "For large compaines, broad user feedback generally takes on a relatively stiff form: The company issues a feedback survey with some sort of coupon reward for completion, and the user has the option to complete or not complete. There are several problems with this approach. First of all, voluntary feedback often times does not accurate reflect true sentiment. People generally feel the need to be nice, so they do not give their true thoughts. Negative experiences become neutral, neutral experiences become positive, and positive experiences become legendary. \n",
    "\n",
    "However, new means of information aggregation enable us to on user feedback in a natural way, where users do not feel surveilled. Using information streams from twitter API, along with an in-house contructed sentiment analysis tool, we aim to provide real-time tweet flagging for companies interested in getting synchronous honest feedback on their products. Equipped with the ability to sift through piles of tweets at an accelerated pace, UX and customer success teams will be enabled to iterate faster on their products, which leads to a better overall product, service, and overall company. "
   ]
  },
  {
   "cell_type": "markdown",
   "metadata": {},
   "source": [
    "## Business Understanding"
   ]
  },
  {
   "cell_type": "markdown",
   "metadata": {},
   "source": [
    "Gathering user feedback can be both difficult and deceiving. Additionally, tracking down and tackling bad PR has always been anything but predictable. However, in the digital age, we are able to monitor social media sites for indications of bad press. The idea is simple: Hook up to the twitter API, search for tweets related to your company via keyword (so, for exmaple, Apple might be interested in any tweet containing \"iPad\", \"iPhone\", etc), then have your user experience team sort through them as to identify strengths and weaknesses in the copmany. However, with the application of NLP, it is actually possible not only to bin the tweets but also to analyse them for sentiment. The implication of this is that a user experience team could get a constant stream of information regarding the shortcoming of their product, enabling more rapid iterations to solve UX challenges and quicker responses to mitigate customer dissatisfaction. The overall result: decreased customer churn, increased user experience team productivity, which, as you might guess, leads to overall increase in bottom line revenues, not to mention a better overall company."
   ]
  },
  {
   "cell_type": "markdown",
   "metadata": {},
   "source": [
    "## Data Understanding"
   ]
  },
  {
   "cell_type": "markdown",
   "metadata": {},
   "source": [
    "We gathered our data from the 2013 South by Southwest festival in Austin, TX. The tweets themselves are sourced by hashtag, meaning that this is a collection of tweets that specifically mention \"#sxsw\" or a close variant. The dataset has three colunms. Each row contains a tweet, the product that tweet is directed at, and the emotion in that tweet. The emotion was determined on a tweet-by-tweet basis from a group of voters. In the case that the voters agreed on the emotion in the tweet, it was labeled either positive, negative, or neutral; in the case that there was no agreement, the tweet was labeled as indeterminable. "
   ]
  },
  {
   "cell_type": "markdown",
   "metadata": {},
   "source": [
    "## Methodology"
   ]
  },
  {
   "cell_type": "markdown",
   "metadata": {},
   "source": [
    "How did we do it? We begin with the aforementioned dataset of tweets from South By Southwest 2013, a popular music festival in Austin, TX, where high tech companies make a habit of appearing to flaunt their latest and trendiest updates. First, we generate metadata per tweet, and clean the tweet overall as to exclude non-sense characters as well as other text portions irrelevant to sentiment determination. Next, we go through an iterative modeling process, agreeing on a model per pre-established metric evaulation. Finally, we cross validate our results, and eventually test our product on unseen data to confirm our results. "
   ]
  },
  {
   "cell_type": "markdown",
   "metadata": {},
   "source": [
    "## EDA"
   ]
  },
  {
   "cell_type": "markdown",
   "metadata": {},
   "source": [
    "We will begin with the basic necessary EDA."
   ]
  },
  {
   "cell_type": "code",
   "execution_count": 142,
   "metadata": {
    "scrolled": true
   },
   "outputs": [
    {
     "name": "stderr",
     "output_type": "stream",
     "text": [
      "<ipython-input-142-c09b5d635a8c>:6: FutureWarning: Passing a negative integer is deprecated in version 1.0 and will not be supported in future version. Instead, use None to not limit the column width.\n",
      "  pd.set_option('display.max_colwidth', -1)\n",
      "[nltk_data] Downloading package wordnet to\n",
      "[nltk_data]     /Users/westonnewcomb/nltk_data...\n",
      "[nltk_data]   Package wordnet is already up-to-date!\n"
     ]
    },
    {
     "data": {
      "text/plain": [
       "True"
      ]
     },
     "execution_count": 142,
     "metadata": {},
     "output_type": "execute_result"
    }
   ],
   "source": [
    "# import necessary packages\n",
    "import pandas as pd \n",
    "import numpy as np\n",
    "import matplotlib.pyplot as plt\n",
    "%matplotlib inline\n",
    "pd.set_option('display.max_colwidth', -1)\n",
    "\n",
    "import string\n",
    "import re\n",
    "\n",
    "from sklearn.feature_extraction.text import CountVectorizer\n",
    "\n",
    "import nltk\n",
    "nltk.download('wordnet')"
   ]
  },
  {
   "cell_type": "markdown",
   "metadata": {},
   "source": [
    "Let's take a look at what we're working with!"
   ]
  },
  {
   "cell_type": "code",
   "execution_count": 143,
   "metadata": {
    "scrolled": false
   },
   "outputs": [
    {
     "data": {
      "text/html": [
       "<div>\n",
       "<style scoped>\n",
       "    .dataframe tbody tr th:only-of-type {\n",
       "        vertical-align: middle;\n",
       "    }\n",
       "\n",
       "    .dataframe tbody tr th {\n",
       "        vertical-align: top;\n",
       "    }\n",
       "\n",
       "    .dataframe thead th {\n",
       "        text-align: right;\n",
       "    }\n",
       "</style>\n",
       "<table border=\"1\" class=\"dataframe\">\n",
       "  <thead>\n",
       "    <tr style=\"text-align: right;\">\n",
       "      <th></th>\n",
       "      <th>tweet_text</th>\n",
       "      <th>emotion_in_tweet_is_directed_at</th>\n",
       "      <th>is_there_an_emotion_directed_at_a_brand_or_product</th>\n",
       "    </tr>\n",
       "  </thead>\n",
       "  <tbody>\n",
       "    <tr>\n",
       "      <th>0</th>\n",
       "      <td>.@wesley83 I have a 3G iPhone. After 3 hrs tweeting at #RISE_Austin, it was dead!  I need to upgrade. Plugin stations at #SXSW.</td>\n",
       "      <td>iPhone</td>\n",
       "      <td>Negative emotion</td>\n",
       "    </tr>\n",
       "    <tr>\n",
       "      <th>1</th>\n",
       "      <td>@jessedee Know about @fludapp ? Awesome iPad/iPhone app that you'll likely appreciate for its design. Also, they're giving free Ts at #SXSW</td>\n",
       "      <td>iPad or iPhone App</td>\n",
       "      <td>Positive emotion</td>\n",
       "    </tr>\n",
       "    <tr>\n",
       "      <th>2</th>\n",
       "      <td>@swonderlin Can not wait for #iPad 2 also. They should sale them down at #SXSW.</td>\n",
       "      <td>iPad</td>\n",
       "      <td>Positive emotion</td>\n",
       "    </tr>\n",
       "    <tr>\n",
       "      <th>3</th>\n",
       "      <td>@sxsw I hope this year's festival isn't as crashy as this year's iPhone app. #sxsw</td>\n",
       "      <td>iPad or iPhone App</td>\n",
       "      <td>Negative emotion</td>\n",
       "    </tr>\n",
       "    <tr>\n",
       "      <th>4</th>\n",
       "      <td>@sxtxstate great stuff on Fri #SXSW: Marissa Mayer (Google), Tim O'Reilly (tech books/conferences) &amp;amp; Matt Mullenweg (Wordpress)</td>\n",
       "      <td>Google</td>\n",
       "      <td>Positive emotion</td>\n",
       "    </tr>\n",
       "  </tbody>\n",
       "</table>\n",
       "</div>"
      ],
      "text/plain": [
       "                                                                                                                                    tweet_text  \\\n",
       "0  .@wesley83 I have a 3G iPhone. After 3 hrs tweeting at #RISE_Austin, it was dead!  I need to upgrade. Plugin stations at #SXSW.               \n",
       "1  @jessedee Know about @fludapp ? Awesome iPad/iPhone app that you'll likely appreciate for its design. Also, they're giving free Ts at #SXSW   \n",
       "2  @swonderlin Can not wait for #iPad 2 also. They should sale them down at #SXSW.                                                               \n",
       "3  @sxsw I hope this year's festival isn't as crashy as this year's iPhone app. #sxsw                                                            \n",
       "4  @sxtxstate great stuff on Fri #SXSW: Marissa Mayer (Google), Tim O'Reilly (tech books/conferences) &amp; Matt Mullenweg (Wordpress)           \n",
       "\n",
       "  emotion_in_tweet_is_directed_at  \\\n",
       "0  iPhone                           \n",
       "1  iPad or iPhone App               \n",
       "2  iPad                             \n",
       "3  iPad or iPhone App               \n",
       "4  Google                           \n",
       "\n",
       "  is_there_an_emotion_directed_at_a_brand_or_product  \n",
       "0  Negative emotion                                   \n",
       "1  Positive emotion                                   \n",
       "2  Positive emotion                                   \n",
       "3  Negative emotion                                   \n",
       "4  Positive emotion                                   "
      ]
     },
     "execution_count": 143,
     "metadata": {},
     "output_type": "execute_result"
    }
   ],
   "source": [
    "# load data in as pandas DataFrame object\n",
    "df = pd.read_csv('data/data.csv', encoding='unicode_escape')\n",
    "df.head()"
   ]
  },
  {
   "cell_type": "markdown",
   "metadata": {},
   "source": [
    "Our data appears to consist of three columns, each relatively simple to understand. Our first data is a tweet, followed by the product at which the tweet is directed, and finally the sentiment of that tweet. "
   ]
  },
  {
   "cell_type": "markdown",
   "metadata": {},
   "source": [
    "Before we go any further, let's go ahead and rename the columns for the sake of simplicity. "
   ]
  },
  {
   "cell_type": "code",
   "execution_count": 144,
   "metadata": {},
   "outputs": [],
   "source": [
    "# rename columns for simplicity\n",
    "columns_dict = {'tweet_text':'tweet',\n",
    "                'emotion_in_tweet_is_directed_at':'product',\n",
    "                'is_there_an_emotion_directed_at_a_brand_or_product':'emotion_response'}\n",
    "\n",
    "df = df.rename(columns=columns_dict)"
   ]
  },
  {
   "cell_type": "code",
   "execution_count": 145,
   "metadata": {
    "scrolled": true
   },
   "outputs": [
    {
     "name": "stdout",
     "output_type": "stream",
     "text": [
      "<class 'pandas.core.frame.DataFrame'>\n",
      "RangeIndex: 9093 entries, 0 to 9092\n",
      "Data columns (total 3 columns):\n",
      " #   Column            Non-Null Count  Dtype \n",
      "---  ------            --------------  ----- \n",
      " 0   tweet             9092 non-null   object\n",
      " 1   product           3291 non-null   object\n",
      " 2   emotion_response  9093 non-null   object\n",
      "dtypes: object(3)\n",
      "memory usage: 213.2+ KB\n"
     ]
    }
   ],
   "source": [
    "df.info()"
   ]
  },
  {
   "cell_type": "markdown",
   "metadata": {},
   "source": [
    "Apparently we are missing some values..."
   ]
  },
  {
   "cell_type": "code",
   "execution_count": 146,
   "metadata": {
    "scrolled": false
   },
   "outputs": [
    {
     "data": {
      "text/plain": [
       "tweet               1   \n",
       "product             5802\n",
       "emotion_response    0   \n",
       "dtype: int64"
      ]
     },
     "execution_count": 146,
     "metadata": {},
     "output_type": "execute_result"
    }
   ],
   "source": [
    "df.isna().sum()"
   ]
  },
  {
   "cell_type": "markdown",
   "metadata": {},
   "source": [
    "Before we deal with this nightmare of a situation with the product column, let's take a look at the null-valued tweet."
   ]
  },
  {
   "cell_type": "code",
   "execution_count": 147,
   "metadata": {},
   "outputs": [
    {
     "data": {
      "text/html": [
       "<div>\n",
       "<style scoped>\n",
       "    .dataframe tbody tr th:only-of-type {\n",
       "        vertical-align: middle;\n",
       "    }\n",
       "\n",
       "    .dataframe tbody tr th {\n",
       "        vertical-align: top;\n",
       "    }\n",
       "\n",
       "    .dataframe thead th {\n",
       "        text-align: right;\n",
       "    }\n",
       "</style>\n",
       "<table border=\"1\" class=\"dataframe\">\n",
       "  <thead>\n",
       "    <tr style=\"text-align: right;\">\n",
       "      <th></th>\n",
       "      <th>tweet</th>\n",
       "      <th>product</th>\n",
       "      <th>emotion_response</th>\n",
       "    </tr>\n",
       "  </thead>\n",
       "  <tbody>\n",
       "    <tr>\n",
       "      <th>6</th>\n",
       "      <td>NaN</td>\n",
       "      <td>NaN</td>\n",
       "      <td>No emotion toward brand or product</td>\n",
       "    </tr>\n",
       "  </tbody>\n",
       "</table>\n",
       "</div>"
      ],
      "text/plain": [
       "  tweet product                    emotion_response\n",
       "6  NaN   NaN     No emotion toward brand or product"
      ]
     },
     "execution_count": 147,
     "metadata": {},
     "output_type": "execute_result"
    }
   ],
   "source": [
    "df[df['tweet'].isna()]"
   ]
  },
  {
   "cell_type": "markdown",
   "metadata": {},
   "source": [
    "This appears likely to be a data input error. We can drop that row from the dataset. "
   ]
  },
  {
   "cell_type": "code",
   "execution_count": 148,
   "metadata": {
    "scrolled": true
   },
   "outputs": [],
   "source": [
    "df = df.dropna(subset=['tweet'])"
   ]
  },
  {
   "cell_type": "markdown",
   "metadata": {},
   "source": [
    "Shall we take a look at the product column next?"
   ]
  },
  {
   "cell_type": "code",
   "execution_count": 149,
   "metadata": {},
   "outputs": [
    {
     "data": {
      "text/plain": [
       "iPad                               946\n",
       "Apple                              661\n",
       "iPad or iPhone App                 470\n",
       "Google                             430\n",
       "iPhone                             297\n",
       "Other Google product or service    293\n",
       "Android App                        81 \n",
       "Android                            78 \n",
       "Other Apple product or service     35 \n",
       "Name: product, dtype: int64"
      ]
     },
     "execution_count": 149,
     "metadata": {},
     "output_type": "execute_result"
    }
   ],
   "source": [
    "df['product'].value_counts()"
   ]
  },
  {
   "cell_type": "code",
   "execution_count": 150,
   "metadata": {},
   "outputs": [
    {
     "data": {
      "text/plain": [
       "0.6380334359876815"
      ]
     },
     "execution_count": 150,
     "metadata": {},
     "output_type": "execute_result"
    }
   ],
   "source": [
    "df['product'].isna().mean()"
   ]
  },
  {
   "cell_type": "markdown",
   "metadata": {},
   "source": [
    "It appears as though we are do not have much information about the products - we're missing values in nearly two-thirds of the rows in the 'product' column. Perhaps this is a mistake in the dataset. In order to circumvent this issue, let's fill in the values if the tweet contains words indicative of the company involved. Additionally, we are not particularly concerned with particular products as opposed to their respective companies. "
   ]
  },
  {
   "cell_type": "code",
   "execution_count": 151,
   "metadata": {},
   "outputs": [],
   "source": [
    "apple_words = ['iphone', 'ipad', 'apple']\n",
    "google_words = ['google', 'android']"
   ]
  },
  {
   "cell_type": "code",
   "execution_count": 152,
   "metadata": {},
   "outputs": [],
   "source": [
    "def brand_classifier(tweet):\n",
    "    \n",
    "    tweet = tweet.lower()\n",
    "    \n",
    "    google = any(g in tweet for g in google_words)\n",
    "    apple = any(a in tweet for a in apple_words)\n",
    "    \n",
    "    if (apple & google):\n",
    "        return 'both'\n",
    "    elif apple:\n",
    "        return 'apple'\n",
    "    elif google:\n",
    "        return 'google'\n",
    "    else:\n",
    "        return 'neither'"
   ]
  },
  {
   "cell_type": "code",
   "execution_count": 153,
   "metadata": {},
   "outputs": [],
   "source": [
    "df['company'] = df['tweet'].map(lambda x: brand_classifier(x))"
   ]
  },
  {
   "cell_type": "code",
   "execution_count": 154,
   "metadata": {
    "scrolled": true
   },
   "outputs": [
    {
     "data": {
      "text/plain": [
       "apple      5275\n",
       "google     2781\n",
       "neither    786 \n",
       "both       250 \n",
       "Name: company, dtype: int64"
      ]
     },
     "execution_count": 154,
     "metadata": {},
     "output_type": "execute_result"
    }
   ],
   "source": [
    "df['company'].value_counts()"
   ]
  },
  {
   "cell_type": "markdown",
   "metadata": {},
   "source": [
    "Wow - significantly better. Let's take a closer look at our emotions column now."
   ]
  },
  {
   "cell_type": "code",
   "execution_count": 155,
   "metadata": {},
   "outputs": [
    {
     "data": {
      "text/plain": [
       "No emotion toward brand or product    5388\n",
       "Positive emotion                      2978\n",
       "Negative emotion                      570 \n",
       "I can't tell                          156 \n",
       "Name: emotion_response, dtype: int64"
      ]
     },
     "execution_count": 155,
     "metadata": {},
     "output_type": "execute_result"
    }
   ],
   "source": [
    "df['emotion_response'].value_counts()"
   ]
  },
  {
   "cell_type": "markdown",
   "metadata": {},
   "source": [
    "First, we should drop those values which contain \"I can't tell\" values because we cannot truly know what the emotion is. To reiterate, the response \"I can't tell\" corresponds to an event in which the group of people classifying the tweet voted in an even split. "
   ]
  },
  {
   "cell_type": "code",
   "execution_count": 156,
   "metadata": {},
   "outputs": [],
   "source": [
    "df = df[df['emotion_response'] != 'I can\\'t tell']"
   ]
  },
  {
   "cell_type": "markdown",
   "metadata": {},
   "source": [
    "Since we are only interested in classifying negative vs. non-negative, let's reframe our data so that it only contains information about whether the tweet has negative sentiment or not. "
   ]
  },
  {
   "cell_type": "code",
   "execution_count": 157,
   "metadata": {},
   "outputs": [],
   "source": [
    "emotions_dict = {'Positive emotion':0,\n",
    "                 'No emotion toward brand or product':0,\n",
    "                 'Negative emotion':1}\n",
    "\n",
    "df['sentiment'] = df['emotion_response'].replace(emotions_dict)"
   ]
  },
  {
   "cell_type": "markdown",
   "metadata": {},
   "source": [
    "#### look into i cant tell columns"
   ]
  },
  {
   "cell_type": "code",
   "execution_count": 158,
   "metadata": {
    "scrolled": true
   },
   "outputs": [
    {
     "name": "stdout",
     "output_type": "stream",
     "text": [
      "<class 'pandas.core.frame.DataFrame'>\n",
      "Int64Index: 8936 entries, 0 to 9092\n",
      "Data columns (total 5 columns):\n",
      " #   Column            Non-Null Count  Dtype \n",
      "---  ------            --------------  ----- \n",
      " 0   tweet             8936 non-null   object\n",
      " 1   product           3282 non-null   object\n",
      " 2   emotion_response  8936 non-null   object\n",
      " 3   company           8936 non-null   object\n",
      " 4   sentiment         8936 non-null   int64 \n",
      "dtypes: int64(1), object(4)\n",
      "memory usage: 418.9+ KB\n"
     ]
    }
   ],
   "source": [
    "df.info()"
   ]
  },
  {
   "cell_type": "code",
   "execution_count": 159,
   "metadata": {},
   "outputs": [
    {
     "data": {
      "text/plain": [
       "0    8366\n",
       "1    570 \n",
       "Name: sentiment, dtype: int64"
      ]
     },
     "execution_count": 159,
     "metadata": {},
     "output_type": "execute_result"
    }
   ],
   "source": [
    "df['sentiment'].value_counts()"
   ]
  },
  {
   "cell_type": "code",
   "execution_count": 160,
   "metadata": {
    "scrolled": true
   },
   "outputs": [
    {
     "data": {
      "text/plain": [
       "0.06378692927484333"
      ]
     },
     "execution_count": 160,
     "metadata": {},
     "output_type": "execute_result"
    }
   ],
   "source": [
    "df['sentiment'].mean()"
   ]
  },
  {
   "cell_type": "markdown",
   "metadata": {},
   "source": [
    "So we are most certainly dealing with a case of class imbalance, which means almost definitely that we will need to upsample or downsample our data. Also, we should definitely be evaluating our models based on a metric different than accuracy. In the mean time, we'll drop the columns that are not necessary for our purposes."
   ]
  },
  {
   "cell_type": "code",
   "execution_count": 161,
   "metadata": {},
   "outputs": [],
   "source": [
    "df = df.drop(['product', 'emotion_response'], axis=1)"
   ]
  },
  {
   "cell_type": "markdown",
   "metadata": {},
   "source": [
    "For our final preprocessing step, it is necessary to clean the tweet of all unnecessary characters. We will use this function later on in a pipeline, so that we can scale for deployment later more efficiently. "
   ]
  },
  {
   "cell_type": "code",
   "execution_count": 162,
   "metadata": {},
   "outputs": [],
   "source": [
    "def tweet_cleaner(tweet):\n",
    "    twtr_stopwords = ['rt','rts','retweet','quot','sxsw', 'amp']\n",
    "    punctuation = set(string.punctuation)\n",
    "    punctuation.remove('#')\n",
    "    \n",
    "    x = tweet\n",
    "    x = re.sub(r'https?:\\/\\/\\S+', '', x) #remove URLs\n",
    "    x = re.sub(r'{link}', '', x) #placeholders\n",
    "    x = re.sub(r'@[\\w]*', '', x) #@mention users\n",
    "    x = re.sub('[^A-Za-z0-9]+', ' ', x) #@mention users\n",
    "    x = re.sub(r'\\b[0-9]+\\b', '', x) #remove stand-alone numbers\n",
    "    x = re.sub(r'&[a-z]+;', '', x) #remove HTML ref chars\n",
    "    x = re.sub(r'\\d+', '', x) #removes all NUMERALS\n",
    "    x = ''.join(ch for ch in x if ch not in punctuation) #remove punctuation\n",
    "    x = x.replace(\"[^a-zA-z]#\", \" \") #remove special chars\n",
    "    \n",
    "    x = [word.lower() for word in x.split() if word.lower() not in twtr_stopwords]\n",
    "    x = [w for w in x if len(w)>2]\n",
    "    \n",
    "    lemmatizer = nltk.stem.WordNetLemmatizer()\n",
    "    \n",
    "    x = [lemmatizer.lemmatize(token) for token in x]\n",
    "    \n",
    "    return x"
   ]
  },
  {
   "cell_type": "markdown",
   "metadata": {},
   "source": [
    "## Modeling"
   ]
  },
  {
   "cell_type": "markdown",
   "metadata": {},
   "source": [
    "We will start the modeling process by, like always, breaking our data into train and test sets."
   ]
  },
  {
   "cell_type": "code",
   "execution_count": 117,
   "metadata": {},
   "outputs": [],
   "source": [
    "# import necessary outside modules for modeling purposes\n",
    "from sklearn.model_selection import train_test_split\n",
    "from sklearn.ensemble import RandomForestClassifier\n",
    "from sklearn.naive_bayes import GaussianNB\n",
    "from sklearn.tree import DecisionTreeClassifier\n",
    "from sklearn.model_selection import GridSearchCV\n",
    "from sklearn.metrics import confusion_matrix\n",
    "from sklearn.metrics import plot_confusion_matrix\n",
    "from sklearn.model_selection import RepeatedStratifiedKFold\n",
    "from sklearn.pipeline import Pipeline\n",
    "from sklearn.model_selection import cross_validate\n",
    "from sklearn.metrics import classification_report\n",
    "from imblearn.over_sampling import SMOTE\n",
    "from imblearn import pipeline\n",
    "from xgboost import XGBClassifier"
   ]
  },
  {
   "cell_type": "code",
   "execution_count": 27,
   "metadata": {},
   "outputs": [],
   "source": [
    "# split full DataFrame into train and test sets\n",
    "X = df['tweet']\n",
    "y = df['sentiment']\n",
    "\n",
    "X_train, X_test, y_train, y_test = train_test_split(X, y, random_state=42, stratify=y)"
   ]
  },
  {
   "cell_type": "markdown",
   "metadata": {},
   "source": [
    "Additionally, let's go ahead and create a function for evaluation model performance. "
   ]
  },
  {
   "cell_type": "code",
   "execution_count": 43,
   "metadata": {},
   "outputs": [],
   "source": [
    "def eval_model(model, X_train, X_test, y_train, y_test):\n",
    "    \n",
    "    model.fit(X_train, y_train)\n",
    "    y_pred = model.predict(X_test)\n",
    "    \n",
    "    plot_confusion_matrix(model, X_test, y_test)\n",
    "    print(classification_report(y_test, y_pred))"
   ]
  },
  {
   "cell_type": "markdown",
   "metadata": {},
   "source": [
    "### Baseline"
   ]
  },
  {
   "cell_type": "markdown",
   "metadata": {},
   "source": [
    "We'll start our moedling process by establishing a baseline with a Decision Tree model from sklearn. "
   ]
  },
  {
   "cell_type": "code",
   "execution_count": 92,
   "metadata": {},
   "outputs": [
    {
     "data": {
      "text/plain": [
       "{'fit_time': array([0.88397217, 0.85496998, 0.87282681, 0.86352277, 1.91616011]),\n",
       " 'score_time': array([0.12428594, 0.12380195, 0.124403  , 0.12416005, 0.10367393]),\n",
       " 'test_score': array([0.54117647, 0.37209302, 0.39534884, 0.43023256, 0.29411765])}"
      ]
     },
     "execution_count": 92,
     "metadata": {},
     "output_type": "execute_result"
    }
   ],
   "source": [
    "dt_pipe = pipeline.Pipeline(steps=[('pre',CountVectorizer(lowercase=False,\n",
    "                                                                tokenizer=tweet_cleaner)),\n",
    "                                         ('smote', SMOTE(random_state=42, sampling_strategy='minority')),\n",
    "                                         ('dt', DecisionTreeClassifier(random_state=42))])\n",
    "\n",
    "dt_cv = cross_validate(estimator=dt_pipe, X=X_train, y=y_train,\n",
    "                       scoring='recall', cv=5, n_jobs=-1)\n",
    "\n",
    "dt_cv"
   ]
  },
  {
   "cell_type": "code",
   "execution_count": 93,
   "metadata": {
    "scrolled": true
   },
   "outputs": [
    {
     "name": "stdout",
     "output_type": "stream",
     "text": [
      "              precision    recall  f1-score   support\n",
      "\n",
      "           0       0.96      0.87      0.91      2131\n",
      "           1       0.17      0.40      0.24       142\n",
      "\n",
      "    accuracy                           0.84      2273\n",
      "   macro avg       0.56      0.63      0.57      2273\n",
      "weighted avg       0.91      0.84      0.87      2273\n",
      "\n"
     ]
    },
    {
     "data": {
      "image/png": "[encoded data removed]",
      "text/plain": [
       "<Figure size 432x288 with 2 Axes>"
      ]
     },
     "metadata": {
      "needs_background": "light"
     },
     "output_type": "display_data"
    }
   ],
   "source": [
    "eval_model(dt_pipe, X_train, X_test, y_train, y_test)"
   ]
  },
  {
   "cell_type": "markdown",
   "metadata": {},
   "source": [
    "As we may have expected, our baseline accuracy is relatively high while our precision and recall are both somewhat low for our target. But this model is most likely disastrously overfitting also - so we need to be careful. However, we have established that we can - to some degree of proficiency - determine the sentiment of a tweet! Let's adjust some of the parameters and see if we can imporve off of our baseline. "
   ]
  },
  {
   "cell_type": "code",
   "execution_count": 95,
   "metadata": {},
   "outputs": [
    {
     "data": {
      "text/plain": [
       "{'fit_time': array([1.16735983, 1.17789888, 1.17913699, 1.19119716, 1.2029078 ]),\n",
       " 'score_time': array([0.14501619, 0.14370012, 0.13922524, 0.13836288, 0.12935233]),\n",
       " 'test_score': array([0.55294118, 0.45348837, 0.41860465, 0.53488372, 0.42352941])}"
      ]
     },
     "execution_count": 95,
     "metadata": {},
     "output_type": "execute_result"
    }
   ],
   "source": [
    "dt_pipe_2 = pipeline.Pipeline(steps=[('pre',CountVectorizer(lowercase=False,\n",
    "                                                                tokenizer=tweet_cleaner)),\n",
    "                                         ('smote', SMOTE(random_state=42, sampling_strategy='minority')),\n",
    "                                         ('dt', DecisionTreeClassifier(class_weight={0:100, 1:1},\n",
    "                                                                       random_state=42))])\n",
    "\n",
    "dt_cv = cross_validate(estimator=dt_pipe_2, X=X_train, y=y_train,\n",
    "                       scoring='recall', cv=5, n_jobs=-1)\n",
    "\n",
    "dt_cv"
   ]
  },
  {
   "cell_type": "code",
   "execution_count": 96,
   "metadata": {
    "scrolled": true
   },
   "outputs": [
    {
     "name": "stdout",
     "output_type": "stream",
     "text": [
      "              precision    recall  f1-score   support\n",
      "\n",
      "           0       0.96      0.83      0.89      2131\n",
      "           1       0.16      0.48      0.24       142\n",
      "\n",
      "    accuracy                           0.81      2273\n",
      "   macro avg       0.56      0.65      0.56      2273\n",
      "weighted avg       0.91      0.81      0.85      2273\n",
      "\n"
     ]
    },
    {
     "data": {
      "image/png": "[encoded data removed]",
      "text/plain": [
       "<Figure size 432x288 with 2 Axes>"
      ]
     },
     "metadata": {
      "needs_background": "light"
     },
     "output_type": "display_data"
    }
   ],
   "source": [
    "eval_model(dt_pipe_2, X_train, X_test, y_train, y_test)"
   ]
  },
  {
   "cell_type": "markdown",
   "metadata": {},
   "source": [
    "Our recall is significantly improved. Since we are willing to sacrifice accuracy and precision for recall, we can say that we have improved on our original model. "
   ]
  },
  {
   "cell_type": "markdown",
   "metadata": {},
   "source": [
    "### Random Forest"
   ]
  },
  {
   "cell_type": "code",
   "execution_count": 101,
   "metadata": {},
   "outputs": [
    {
     "data": {
      "text/plain": [
       "{'fit_time': array([3.43784714, 3.34204912, 3.43404889, 3.42933679, 3.3979671 ]),\n",
       " 'score_time': array([0.16742086, 0.16254091, 0.16220403, 0.15989232, 0.15930796]),\n",
       " 'test_score': array([0.37647059, 0.34883721, 0.29069767, 0.38372093, 0.32941176])}"
      ]
     },
     "execution_count": 101,
     "metadata": {},
     "output_type": "execute_result"
    }
   ],
   "source": [
    "rf_pipe = pipeline.Pipeline(steps=[('pre', CountVectorizer(lowercase=False, \n",
    "                                                           tokenizer=tweet_cleaner,\n",
    "                                                           max_features=100)),\n",
    "                                   ('smote', SMOTE(random_state=42)),\n",
    "                                   ('rf', RandomForestClassifier(random_state=42, \n",
    "                                                                 class_weight={0:1,\n",
    "                                                                               1:10}))])\n",
    "\n",
    "rf_cv = cross_validate(estimator=rf_pipe, X=X_train, y=y_train, \n",
    "                       scoring='recall', cv=5, n_jobs=-1)\n",
    "\n",
    "rf_cv"
   ]
  },
  {
   "cell_type": "code",
   "execution_count": 102,
   "metadata": {
    "scrolled": true
   },
   "outputs": [
    {
     "name": "stdout",
     "output_type": "stream",
     "text": [
      "              precision    recall  f1-score   support\n",
      "\n",
      "           0       0.95      0.84      0.90      2131\n",
      "           1       0.14      0.37      0.20       142\n",
      "\n",
      "    accuracy                           0.81      2273\n",
      "   macro avg       0.54      0.61      0.55      2273\n",
      "weighted avg       0.90      0.81      0.85      2273\n",
      "\n"
     ]
    },
    {
     "data": {
      "image/png": "[encoded data removed]",
      "text/plain": [
       "<Figure size 432x288 with 2 Axes>"
      ]
     },
     "metadata": {
      "needs_background": "light"
     },
     "output_type": "display_data"
    }
   ],
   "source": [
    "eval_model(rf_pipe, X_train, X_test, y_train, y_test)"
   ]
  },
  {
   "cell_type": "markdown",
   "metadata": {},
   "source": [
    "Not as good as we might have hoped, although our RF is probably not overfitting as much as our decision tree. "
   ]
  },
  {
   "cell_type": "markdown",
   "metadata": {},
   "source": [
    "### XGBoost"
   ]
  },
  {
   "cell_type": "code",
   "execution_count": 113,
   "metadata": {},
   "outputs": [],
   "source": [
    "x = XGBClassifier"
   ]
  },
  {
   "cell_type": "code",
   "execution_count": 118,
   "metadata": {},
   "outputs": [
    {
     "data": {
      "text/plain": [
       "{'fit_time': array([2.80946183, 2.82124209, 2.82116985, 2.80832982, 2.8033669 ]),\n",
       " 'score_time': array([0.13659024, 0.12957978, 0.13020325, 0.13036203, 0.12808299]),\n",
       " 'test_score': array([0.16470588, 0.08139535, 0.09302326, 0.11627907, 0.12941176])}"
      ]
     },
     "execution_count": 118,
     "metadata": {},
     "output_type": "execute_result"
    }
   ],
   "source": [
    "xgb_pipe = pipeline.Pipeline(steps=[('pre', CountVectorizer(lowercase=False, \n",
    "                                                           tokenizer=tweet_cleaner,\n",
    "                                                           max_features=100)),\n",
    "                                   ('smote', SMOTE(random_state=42)),\n",
    "                                   ('xgb', XGBClassifier())])\n",
    "\n",
    "xgb_cv = cross_validate(estimator=xgb_pipe, X=X_train, y=y_train, \n",
    "                       scoring='recall', cv=5, n_jobs=-1)\n",
    "\n",
    "xgb_cv"
   ]
  },
  {
   "cell_type": "code",
   "execution_count": 119,
   "metadata": {},
   "outputs": [
    {
     "name": "stdout",
     "output_type": "stream",
     "text": [
      "              precision    recall  f1-score   support\n",
      "\n",
      "           0       0.94      0.98      0.96      2131\n",
      "           1       0.22      0.08      0.11       142\n",
      "\n",
      "    accuracy                           0.93      2273\n",
      "   macro avg       0.58      0.53      0.54      2273\n",
      "weighted avg       0.90      0.93      0.91      2273\n",
      "\n"
     ]
    },
    {
     "data": {
      "image/png": "[encoded data removed]",
      "text/plain": [
       "<Figure size 432x288 with 2 Axes>"
      ]
     },
     "metadata": {
      "needs_background": "light"
     },
     "output_type": "display_data"
    }
   ],
   "source": [
    "eval_model(xgb_pipe, X_train, X_test, y_train, y_test)"
   ]
  },
  {
   "cell_type": "markdown",
   "metadata": {},
   "source": [
    "## Evaluation"
   ]
  },
  {
   "cell_type": "markdown",
   "metadata": {},
   "source": [
    "Based on our three models, we can conclude that our second decision tree should work the best in production. This is because it has the highest recall rate. To understand why recall rate is our chosen metric, you have to imagine the workflow of a user of this software. Because the cost associated with flagging a positive tweet as negative is relatively low (3 seconds off of a person's work stack to recognize that the software was incorrect on this occasion), we are willing to give up accuracy if more dexterity in flagging negative tweets overall entails. "
   ]
  },
  {
   "cell_type": "markdown",
   "metadata": {},
   "source": [
    "## Conclusion"
   ]
  },
  {
   "cell_type": "markdown",
   "metadata": {},
   "source": [
    "While we did come up with a decent solution, there is still a great deal of work to do in the way of model optimization and deplyment. We did not use gridsearch; we did not do a large amount of feature engineering; we did not gain as intuitive an understanding of our dataset as we would have liked."
   ]
  },
  {
   "cell_type": "markdown",
   "metadata": {},
   "source": [
    "## Future Research"
   ]
  },
  {
   "cell_type": "markdown",
   "metadata": {},
   "source": [
    "Future research should be conducted on a variety of fronts. Firstly, we will experiment with pre-made neural nets and other algorithms, which are significantly better at classfying tweets and conducting NLP processes. Secondly, we need to deploy our model on real world data for proof of concept, especially in a CI/CD environment. Thirdly, our team plans to gather a larger amount of data per tweet, so that we can better understand other items such as tweet activity (RTs, favorites, replies, other metrics of tweet attention), and account metrics (how many followers does this person have, what is this person's general tweet engagement on average, etc.). The direction of our work aims to inform UX and customer success teams on how they can better manage their products to maximize performance; thus, feedback through other social media sites could also be helpful, especially where more than 280 characters can provide a more precise explanation of user frustrations. "
   ]
  }
 ],
 "metadata": {
  "kernelspec": {
   "display_name": "Python (learn-env)",
   "language": "python",
   "name": "learn-env"
  },
  "language_info": {
   "codemirror_mode": {
    "name": "ipython",
    "version": 3
   },
   "file_extension": ".py",
   "mimetype": "text/x-python",
   "name": "python",
   "nbconvert_exporter": "python",
   "pygments_lexer": "ipython3",
   "version": "3.8.5"
  },
  "varInspector": {
   "cols": {
    "lenName": 16,
    "lenType": 16,
    "lenVar": 40
   },
   "kernels_config": {
    "python": {
     "delete_cmd_postfix": "",
     "delete_cmd_prefix": "del ",
     "library": "var_list.py",
     "varRefreshCmd": "print(var_dic_list())"
    },
    "r": {
     "delete_cmd_postfix": ") ",
     "delete_cmd_prefix": "rm(",
     "library": "var_list.r",
     "varRefreshCmd": "cat(var_dic_list()) "
    }
   },
   "types_to_exclude": [
    "module",
    "function",
    "builtin_function_or_method",
    "instance",
    "_Feature"
   ],
   "window_display": false
  }
 },
 "nbformat": 4,
 "nbformat_minor": 2
}
