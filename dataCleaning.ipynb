{
 "cells": [
  {
   "cell_type": "markdown",
   "metadata": {},
   "source": [
    "# Data Cleaning and EDA"
   ]
  },
  {
   "cell_type": "code",
   "execution_count": 1,
   "metadata": {},
   "outputs": [
    {
     "name": "stderr",
     "output_type": "stream",
     "text": [
      "<ipython-input-1-e3a2e3055c28>:20: FutureWarning: Passing a negative integer is deprecated in version 1.0 and will not be supported in future version. Instead, use None to not limit the column width.\n",
      "  pd.set_option('display.max_colwidth', -1)\n"
     ]
    }
   ],
   "source": [
    "import pandas as pd\n",
    "import numpy as np\n",
    "import nltk\n",
    "from nltk.tokenize import RegexpTokenizer, TweetTokenizer, word_tokenize\n",
    "from nltk.corpus import stopwords\n",
    "from nltk.stem import PorterStemmer, SnowballStemmer\n",
    "from sklearn.feature_extraction.text import TfidfVectorizer, CountVectorizer\n",
    "from sklearn.model_selection import train_test_split\n",
    "from sklearn.tree import DecisionTreeClassifier\n",
    "from sklearn.ensemble import RandomForestClassifier\n",
    "from sklearn.naive_bayes import MultinomialNB\n",
    "from sklearn.model_selection import cross_val_score\n",
    "from sklearn.metrics import precision_score, recall_score, accuracy_score, f1_score\n",
    "from sklearn.metrics import plot_confusion_matrix\n",
    "import re\n",
    "import string\n",
    "import matplotlib.pyplot as plt\n",
    "import seaborn as sns\n",
    "from wordcloud import WordCloud\n",
    "pd.set_option('display.max_colwidth', -1)"
   ]
  },
  {
   "cell_type": "code",
   "execution_count": 2,
   "metadata": {},
   "outputs": [],
   "source": [
    "df = pd.read_csv('data/data.csv', encoding = 'unicode_escape')"
   ]
  },
  {
   "cell_type": "code",
   "execution_count": 3,
   "metadata": {},
   "outputs": [],
   "source": [
    "df.rename(columns={'tweet_text':'Tweet','emotion_in_tweet_is_directed_at':'Product',\n",
    "                   'is_there_an_emotion_directed_at_a_brand_or_product':'Sentiment'}, inplace=True)"
   ]
  },
  {
   "cell_type": "code",
   "execution_count": 4,
   "metadata": {},
   "outputs": [],
   "source": [
    "df.dropna(subset=['Tweet'],inplace=True)\n",
    "df.drop_duplicates(inplace=True)\n",
    "df['Product'].fillna('Unknown',inplace=True)"
   ]
  },
  {
   "cell_type": "code",
   "execution_count": 5,
   "metadata": {},
   "outputs": [],
   "source": [
    "sentiment_list=[]\n",
    "for i in df['Sentiment']:\n",
    "    if (i==\"No emotion toward brand or product\")|(i==\"I can't tell\"):\n",
    "        sentiment_list.append('Neutral')\n",
    "    elif i=='Positive emotion':\n",
    "        sentiment_list.append('Positive')\n",
    "    elif i=='Negative emotion':\n",
    "        sentiment_list.append('Negative')\n",
    "df['Sentiment']=sentiment_list"
   ]
  },
  {
   "cell_type": "code",
   "execution_count": 6,
   "metadata": {
    "scrolled": false
   },
   "outputs": [
    {
     "data": {
      "text/plain": [
       "Neutral     5531\n",
       "Positive    2970\n",
       "Negative    569 \n",
       "Name: Sentiment, dtype: int64"
      ]
     },
     "execution_count": 6,
     "metadata": {},
     "output_type": "execute_result"
    }
   ],
   "source": [
    "df['Sentiment'].value_counts()"
   ]
  },
  {
   "cell_type": "code",
   "execution_count": 7,
   "metadata": {},
   "outputs": [],
   "source": [
    "neg_ornot=[]\n",
    "for i in df['Sentiment']:\n",
    "    if (i=='Neutral')|(i=='Positive'):\n",
    "        neg_ornot.append('Non-Negative')\n",
    "    elif i=='Negative':\n",
    "        neg_ornot.append('Negative')\n",
    "df['Sentiment']=neg_ornot"
   ]
  },
  {
   "cell_type": "code",
   "execution_count": 8,
   "metadata": {},
   "outputs": [
    {
     "data": {
      "text/plain": [
       "0       Negative    \n",
       "1       Non-Negative\n",
       "2       Non-Negative\n",
       "3       Negative    \n",
       "4       Non-Negative\n",
       "            ...     \n",
       "9088    Non-Negative\n",
       "9089    Non-Negative\n",
       "9090    Non-Negative\n",
       "9091    Non-Negative\n",
       "9092    Non-Negative\n",
       "Name: Sentiment, Length: 9070, dtype: object"
      ]
     },
     "execution_count": 8,
     "metadata": {},
     "output_type": "execute_result"
    }
   ],
   "source": [
    "df['Sentiment']"
   ]
  },
  {
   "cell_type": "code",
   "execution_count": 9,
   "metadata": {
    "scrolled": true
   },
   "outputs": [
    {
     "data": {
      "text/plain": [
       "Unknown                            5788\n",
       "iPad                               945 \n",
       "Apple                              659 \n",
       "iPad or iPhone App                 469 \n",
       "Google                             428 \n",
       "iPhone                             296 \n",
       "Other Google product or service    293 \n",
       "Android App                        80  \n",
       "Android                            77  \n",
       "Other Apple product or service     35  \n",
       "Name: Product, dtype: int64"
      ]
     },
     "execution_count": 9,
     "metadata": {},
     "output_type": "execute_result"
    }
   ],
   "source": [
    "df['Product'].value_counts()"
   ]
  },
  {
   "cell_type": "code",
   "execution_count": 10,
   "metadata": {},
   "outputs": [
    {
     "data": {
      "text/plain": [
       "Apple      5341\n",
       "Google     2789\n",
       "Unknown    759 \n",
       "Both       181 \n",
       "Name: Brand, dtype: int64"
      ]
     },
     "execution_count": 10,
     "metadata": {},
     "output_type": "execute_result"
    }
   ],
   "source": [
    "google_values = 'google','android'\n",
    "apple_values = 'apple','iphone','ipad'\n",
    "def brand_classification(Product, Tweet):\n",
    "    brand='Unknown'\n",
    "    if (Product.lower().__contains__('google'))|(Product.lower().__contains__('android')):\n",
    "        brand = 'Google'\n",
    "    elif (Product.lower().__contains__('apple'))|(Product.lower().__contains__('iphone'))|(Product.lower().__contains__('ipad')):\n",
    "        brand = 'Apple'\n",
    "    if (brand == 'Unknown'):\n",
    "        lowercase_tweet = Tweet.lower()\n",
    "        google = (lowercase_tweet.__contains__('google'))|(lowercase_tweet.__contains__('android'))\n",
    "        apple = (lowercase_tweet.__contains__('iphone'))|(lowercase_tweet.__contains__('ipad'))|(lowercase_tweet.__contains__('apple'))\n",
    "        if (google & apple):\n",
    "            brand = 'Both'\n",
    "        elif apple:\n",
    "            brand = 'Apple'\n",
    "        elif google:\n",
    "            brand = 'Google'\n",
    "    return brand\n",
    "                \n",
    "df['Brand'] = df.apply(lambda row: brand_classification(row['Product'], row['Tweet']), axis=1)\n",
    "df['Brand'].value_counts()"
   ]
  },
  {
   "cell_type": "code",
   "execution_count": 11,
   "metadata": {},
   "outputs": [
    {
     "name": "stdout",
     "output_type": "stream",
     "text": [
      "<class 'pandas.core.frame.DataFrame'>\n",
      "Int64Index: 9070 entries, 0 to 9092\n",
      "Data columns (total 4 columns):\n",
      " #   Column     Non-Null Count  Dtype \n",
      "---  ------     --------------  ----- \n",
      " 0   Tweet      9070 non-null   object\n",
      " 1   Product    9070 non-null   object\n",
      " 2   Sentiment  9070 non-null   object\n",
      " 3   Brand      9070 non-null   object\n",
      "dtypes: object(4)\n",
      "memory usage: 354.3+ KB\n"
     ]
    }
   ],
   "source": [
    "df.info()"
   ]
  },
  {
   "cell_type": "code",
   "execution_count": 12,
   "metadata": {},
   "outputs": [],
   "source": [
    "def tweet_cleaner(tweet):\n",
    "    twtr_stopwords = ['rt','rts','retweet','quot','sxsw', 'amp']\n",
    "    punctuation = set(string.punctuation)\n",
    "    punctuation.remove('#')\n",
    "    \n",
    "    x=tweet\n",
    "    x=re.sub(r'https?:\\/\\/\\S+', '', x) #remove URLs\n",
    "    x=re.sub(r'{link}', '', x) #placeholders\n",
    "    x=re.sub(r'@[\\w]*', '', x) #@mention users\n",
    "    x=re.sub('[^A-Za-z0-9]+', ' ', x) #@mention users\n",
    "    x=re.sub(r'\\b[0-9]+\\b', '', x) #remove stand-alone numbers\n",
    "    x=re.sub(r'&[a-z]+;', '', x) #remove HTML ref chars\n",
    "    x=re.sub(r'\\d+', '', x) #removes all NUMERALS\n",
    "    x=''.join(ch for ch in x if ch not in punctuation) #remove punctuation\n",
    "    x=x.replace(\"[^a-zA-z#]\", \" \") #remove special chars\n",
    "    \n",
    "    x=[word.lower() for word in x.split() if word.lower() not in twtr_stopwords]\n",
    "    x=[w for w in x if len(w)>2]\n",
    "    \n",
    "    return ' '.join(x)\n",
    "    "
   ]
  },
  {
   "cell_type": "code",
   "execution_count": 13,
   "metadata": {},
   "outputs": [],
   "source": [
    "df['Cleaned_Tweet'] = df['Tweet'].map(lambda x: tweet_cleaner(x))"
   ]
  },
  {
   "cell_type": "code",
   "execution_count": 14,
   "metadata": {},
   "outputs": [
    {
     "data": {
      "text/plain": [
       "0       have iphone after hrs tweeting rise austin was dead need upgrade plugin stations                                             \n",
       "1       know about awesome ipad iphone app that you likely appreciate for its design also they giving free                           \n",
       "2       can not wait for ipad also they should sale them down                                                                        \n",
       "3       hope this year festival isn crashy this year iphone app                                                                      \n",
       "4       great stuff fri marissa mayer google tim reilly tech books conferences matt mullenweg wordpress                              \n",
       "                                                     ...                                                                             \n",
       "9088    ipad everywhere                                                                                                              \n",
       "9089    wave buzz interrupt your regularly scheduled geek programming with big news google circles                                   \n",
       "9090    google zeiger physician never reported potential yet fda relies physicians operating out data healthdev                      \n",
       "9091    some verizon iphone customers complained their time fell back hour this weekend course they were the new yorkers who attended\n",
       "9092    google tests check offers                                                                                                    \n",
       "Name: Cleaned_Tweet, Length: 9070, dtype: object"
      ]
     },
     "execution_count": 14,
     "metadata": {},
     "output_type": "execute_result"
    }
   ],
   "source": [
    "df['Cleaned_Tweet']"
   ]
  },
  {
   "cell_type": "code",
   "execution_count": 15,
   "metadata": {
    "scrolled": false
   },
   "outputs": [
    {
     "data": {
      "text/html": [
       "<div>\n",
       "<style scoped>\n",
       "    .dataframe tbody tr th:only-of-type {\n",
       "        vertical-align: middle;\n",
       "    }\n",
       "\n",
       "    .dataframe tbody tr th {\n",
       "        vertical-align: top;\n",
       "    }\n",
       "\n",
       "    .dataframe thead th {\n",
       "        text-align: right;\n",
       "    }\n",
       "</style>\n",
       "<table border=\"1\" class=\"dataframe\">\n",
       "  <thead>\n",
       "    <tr style=\"text-align: right;\">\n",
       "      <th></th>\n",
       "      <th>Tweet</th>\n",
       "      <th>Product</th>\n",
       "      <th>Sentiment</th>\n",
       "      <th>Brand</th>\n",
       "      <th>Cleaned_Tweet</th>\n",
       "    </tr>\n",
       "  </thead>\n",
       "  <tbody>\n",
       "    <tr>\n",
       "      <th>0</th>\n",
       "      <td>.@wesley83 I have a 3G iPhone. After 3 hrs tweeting at #RISE_Austin, it was dead!  I need to upgrade. Plugin stations at #SXSW.</td>\n",
       "      <td>iPhone</td>\n",
       "      <td>Negative</td>\n",
       "      <td>Apple</td>\n",
       "      <td>have iphone after hrs tweeting rise austin was dead need upgrade plugin stations</td>\n",
       "    </tr>\n",
       "    <tr>\n",
       "      <th>1</th>\n",
       "      <td>@jessedee Know about @fludapp ? Awesome iPad/iPhone app that you'll likely appreciate for its design. Also, they're giving free Ts at #SXSW</td>\n",
       "      <td>iPad or iPhone App</td>\n",
       "      <td>Non-Negative</td>\n",
       "      <td>Apple</td>\n",
       "      <td>know about awesome ipad iphone app that you likely appreciate for its design also they giving free</td>\n",
       "    </tr>\n",
       "    <tr>\n",
       "      <th>2</th>\n",
       "      <td>@swonderlin Can not wait for #iPad 2 also. They should sale them down at #SXSW.</td>\n",
       "      <td>iPad</td>\n",
       "      <td>Non-Negative</td>\n",
       "      <td>Apple</td>\n",
       "      <td>can not wait for ipad also they should sale them down</td>\n",
       "    </tr>\n",
       "    <tr>\n",
       "      <th>3</th>\n",
       "      <td>@sxsw I hope this year's festival isn't as crashy as this year's iPhone app. #sxsw</td>\n",
       "      <td>iPad or iPhone App</td>\n",
       "      <td>Negative</td>\n",
       "      <td>Apple</td>\n",
       "      <td>hope this year festival isn crashy this year iphone app</td>\n",
       "    </tr>\n",
       "    <tr>\n",
       "      <th>4</th>\n",
       "      <td>@sxtxstate great stuff on Fri #SXSW: Marissa Mayer (Google), Tim O'Reilly (tech books/conferences) &amp;amp; Matt Mullenweg (Wordpress)</td>\n",
       "      <td>Google</td>\n",
       "      <td>Non-Negative</td>\n",
       "      <td>Google</td>\n",
       "      <td>great stuff fri marissa mayer google tim reilly tech books conferences matt mullenweg wordpress</td>\n",
       "    </tr>\n",
       "  </tbody>\n",
       "</table>\n",
       "</div>"
      ],
      "text/plain": [
       "                                                                                                                                         Tweet  \\\n",
       "0  .@wesley83 I have a 3G iPhone. After 3 hrs tweeting at #RISE_Austin, it was dead!  I need to upgrade. Plugin stations at #SXSW.               \n",
       "1  @jessedee Know about @fludapp ? Awesome iPad/iPhone app that you'll likely appreciate for its design. Also, they're giving free Ts at #SXSW   \n",
       "2  @swonderlin Can not wait for #iPad 2 also. They should sale them down at #SXSW.                                                               \n",
       "3  @sxsw I hope this year's festival isn't as crashy as this year's iPhone app. #sxsw                                                            \n",
       "4  @sxtxstate great stuff on Fri #SXSW: Marissa Mayer (Google), Tim O'Reilly (tech books/conferences) &amp; Matt Mullenweg (Wordpress)           \n",
       "\n",
       "              Product     Sentiment   Brand  \\\n",
       "0  iPhone              Negative      Apple    \n",
       "1  iPad or iPhone App  Non-Negative  Apple    \n",
       "2  iPad                Non-Negative  Apple    \n",
       "3  iPad or iPhone App  Negative      Apple    \n",
       "4  Google              Non-Negative  Google   \n",
       "\n",
       "                                                                                        Cleaned_Tweet  \n",
       "0  have iphone after hrs tweeting rise austin was dead need upgrade plugin stations                    \n",
       "1  know about awesome ipad iphone app that you likely appreciate for its design also they giving free  \n",
       "2  can not wait for ipad also they should sale them down                                               \n",
       "3  hope this year festival isn crashy this year iphone app                                             \n",
       "4  great stuff fri marissa mayer google tim reilly tech books conferences matt mullenweg wordpress     "
      ]
     },
     "execution_count": 15,
     "metadata": {},
     "output_type": "execute_result"
    }
   ],
   "source": [
    "df.head()"
   ]
  },
  {
   "cell_type": "code",
   "execution_count": 16,
   "metadata": {},
   "outputs": [],
   "source": [
    "stopwords_list = stopwords.words('english')\n",
    "pattern = r\"(?u)\\w{3,}\"\n",
    "tokenizer = RegexpTokenizer(pattern)\n",
    "stemmer = PorterStemmer()"
   ]
  },
  {
   "cell_type": "code",
   "execution_count": 17,
   "metadata": {},
   "outputs": [],
   "source": [
    "def preprocess_text(text, tokenizer, stopwords_list, stemmer):\n",
    "    text_tokens = tokenizer.tokenize(text)\n",
    "\n",
    "    text_tokens_stopped = [word for word in text_tokens if word not in stopwords_list]\n",
    "    \n",
    "    final_text = [stemmer.stem(token) for token in text_tokens_stopped]\n",
    "    \n",
    "    return final_text"
   ]
  },
  {
   "cell_type": "code",
   "execution_count": 18,
   "metadata": {},
   "outputs": [],
   "source": [
    "text_data = df.Cleaned_Tweet.apply(lambda x: preprocess_text(x, tokenizer, stopwords_list, stemmer))"
   ]
  },
  {
   "cell_type": "code",
   "execution_count": 19,
   "metadata": {
    "scrolled": true
   },
   "outputs": [
    {
     "data": {
      "text/html": [
       "<div>\n",
       "<style scoped>\n",
       "    .dataframe tbody tr th:only-of-type {\n",
       "        vertical-align: middle;\n",
       "    }\n",
       "\n",
       "    .dataframe tbody tr th {\n",
       "        vertical-align: top;\n",
       "    }\n",
       "\n",
       "    .dataframe thead th {\n",
       "        text-align: right;\n",
       "    }\n",
       "</style>\n",
       "<table border=\"1\" class=\"dataframe\">\n",
       "  <thead>\n",
       "    <tr style=\"text-align: right;\">\n",
       "      <th></th>\n",
       "      <th>Tweet</th>\n",
       "      <th>Product</th>\n",
       "      <th>Sentiment</th>\n",
       "      <th>Brand</th>\n",
       "      <th>Cleaned_Tweet</th>\n",
       "      <th>Preprocessed_Text</th>\n",
       "    </tr>\n",
       "  </thead>\n",
       "  <tbody>\n",
       "    <tr>\n",
       "      <th>0</th>\n",
       "      <td>.@wesley83 I have a 3G iPhone. After 3 hrs tweeting at #RISE_Austin, it was dead!  I need to upgrade. Plugin stations at #SXSW.</td>\n",
       "      <td>iPhone</td>\n",
       "      <td>Negative</td>\n",
       "      <td>Apple</td>\n",
       "      <td>have iphone after hrs tweeting rise austin was dead need upgrade plugin stations</td>\n",
       "      <td>[iphon, hr, tweet, rise, austin, dead, need, upgrad, plugin, station]</td>\n",
       "    </tr>\n",
       "    <tr>\n",
       "      <th>1</th>\n",
       "      <td>@jessedee Know about @fludapp ? Awesome iPad/iPhone app that you'll likely appreciate for its design. Also, they're giving free Ts at #SXSW</td>\n",
       "      <td>iPad or iPhone App</td>\n",
       "      <td>Non-Negative</td>\n",
       "      <td>Apple</td>\n",
       "      <td>know about awesome ipad iphone app that you likely appreciate for its design also they giving free</td>\n",
       "      <td>[know, awesom, ipad, iphon, app, like, appreci, design, also, give, free]</td>\n",
       "    </tr>\n",
       "    <tr>\n",
       "      <th>2</th>\n",
       "      <td>@swonderlin Can not wait for #iPad 2 also. They should sale them down at #SXSW.</td>\n",
       "      <td>iPad</td>\n",
       "      <td>Non-Negative</td>\n",
       "      <td>Apple</td>\n",
       "      <td>can not wait for ipad also they should sale them down</td>\n",
       "      <td>[wait, ipad, also, sale]</td>\n",
       "    </tr>\n",
       "    <tr>\n",
       "      <th>3</th>\n",
       "      <td>@sxsw I hope this year's festival isn't as crashy as this year's iPhone app. #sxsw</td>\n",
       "      <td>iPad or iPhone App</td>\n",
       "      <td>Negative</td>\n",
       "      <td>Apple</td>\n",
       "      <td>hope this year festival isn crashy this year iphone app</td>\n",
       "      <td>[hope, year, festiv, crashi, year, iphon, app]</td>\n",
       "    </tr>\n",
       "    <tr>\n",
       "      <th>4</th>\n",
       "      <td>@sxtxstate great stuff on Fri #SXSW: Marissa Mayer (Google), Tim O'Reilly (tech books/conferences) &amp;amp; Matt Mullenweg (Wordpress)</td>\n",
       "      <td>Google</td>\n",
       "      <td>Non-Negative</td>\n",
       "      <td>Google</td>\n",
       "      <td>great stuff fri marissa mayer google tim reilly tech books conferences matt mullenweg wordpress</td>\n",
       "      <td>[great, stuff, fri, marissa, mayer, googl, tim, reilli, tech, book, confer, matt, mullenweg, wordpress]</td>\n",
       "    </tr>\n",
       "  </tbody>\n",
       "</table>\n",
       "</div>"
      ],
      "text/plain": [
       "                                                                                                                                         Tweet  \\\n",
       "0  .@wesley83 I have a 3G iPhone. After 3 hrs tweeting at #RISE_Austin, it was dead!  I need to upgrade. Plugin stations at #SXSW.               \n",
       "1  @jessedee Know about @fludapp ? Awesome iPad/iPhone app that you'll likely appreciate for its design. Also, they're giving free Ts at #SXSW   \n",
       "2  @swonderlin Can not wait for #iPad 2 also. They should sale them down at #SXSW.                                                               \n",
       "3  @sxsw I hope this year's festival isn't as crashy as this year's iPhone app. #sxsw                                                            \n",
       "4  @sxtxstate great stuff on Fri #SXSW: Marissa Mayer (Google), Tim O'Reilly (tech books/conferences) &amp; Matt Mullenweg (Wordpress)           \n",
       "\n",
       "              Product     Sentiment   Brand  \\\n",
       "0  iPhone              Negative      Apple    \n",
       "1  iPad or iPhone App  Non-Negative  Apple    \n",
       "2  iPad                Non-Negative  Apple    \n",
       "3  iPad or iPhone App  Negative      Apple    \n",
       "4  Google              Non-Negative  Google   \n",
       "\n",
       "                                                                                        Cleaned_Tweet  \\\n",
       "0  have iphone after hrs tweeting rise austin was dead need upgrade plugin stations                     \n",
       "1  know about awesome ipad iphone app that you likely appreciate for its design also they giving free   \n",
       "2  can not wait for ipad also they should sale them down                                                \n",
       "3  hope this year festival isn crashy this year iphone app                                              \n",
       "4  great stuff fri marissa mayer google tim reilly tech books conferences matt mullenweg wordpress      \n",
       "\n",
       "                                                                                         Preprocessed_Text  \n",
       "0  [iphon, hr, tweet, rise, austin, dead, need, upgrad, plugin, station]                                    \n",
       "1  [know, awesom, ipad, iphon, app, like, appreci, design, also, give, free]                                \n",
       "2  [wait, ipad, also, sale]                                                                                 \n",
       "3  [hope, year, festiv, crashi, year, iphon, app]                                                           \n",
       "4  [great, stuff, fri, marissa, mayer, googl, tim, reilli, tech, book, confer, matt, mullenweg, wordpress]  "
      ]
     },
     "execution_count": 19,
     "metadata": {},
     "output_type": "execute_result"
    }
   ],
   "source": [
    "df[\"Preprocessed_Text\"] = text_data\n",
    "df.head()"
   ]
  },
  {
   "cell_type": "code",
   "execution_count": 20,
   "metadata": {},
   "outputs": [
    {
     "data": {
      "image/png": "[encoded data removed]",
      "text/plain": [
       "<Figure size 864x864 with 4 Axes>"
      ]
     },
     "metadata": {
      "needs_background": "light"
     },
     "output_type": "display_data"
    }
   ],
   "source": [
    "# Run this cell without changes\n",
    "import matplotlib.pyplot as plt\n",
    "import seaborn as sns\n",
    "\n",
    "# Set up figure and axes\n",
    "fig, axes = plt.subplots(nrows=4, figsize=(12, 12))\n",
    "\n",
    "# Empty dict to hold words that have already been plotted and their colors\n",
    "plotted_words_and_colors = {}\n",
    "# Establish color palette to pull from\n",
    "# (If you get an error message about popping from an empty list, increase this #)\n",
    "color_palette = sns.color_palette('crest', n_colors=38)\n",
    "\n",
    "# Creating a plot for each unique genre\n",
    "data_by_brand = [y for _, y in df.groupby('Brand', as_index=False)]\n",
    "for idx, brand_df in enumerate(data_by_brand):\n",
    "    # Find top 10 words in this genre\n",
    "    all_words_in_genre = brand_df.Preprocessed_Text.explode()\n",
    "    top_10 = all_words_in_genre.value_counts()[:10]\n",
    "    \n",
    "    # Select appropriate colors, reusing colors if words repeat\n",
    "    colors = []\n",
    "    for word in top_10.index:\n",
    "        if word not in plotted_words_and_colors:\n",
    "            new_color = color_palette.pop(0)\n",
    "            plotted_words_and_colors[word] = new_color\n",
    "        colors.append(plotted_words_and_colors[word])\n",
    "    \n",
    "    # Select axes, plot data, set title\n",
    "    ax = axes[idx]\n",
    "    ax.bar(top_10.index, top_10.values, color=colors)\n",
    "    ax.set_title(brand_df.iloc[0].Brand.title())\n",
    "    \n",
    "fig.tight_layout()"
   ]
  },
  {
   "cell_type": "code",
   "execution_count": 21,
   "metadata": {
    "scrolled": false
   },
   "outputs": [
    {
     "data": {
      "text/html": [
       "<div>\n",
       "<style scoped>\n",
       "    .dataframe tbody tr th:only-of-type {\n",
       "        vertical-align: middle;\n",
       "    }\n",
       "\n",
       "    .dataframe tbody tr th {\n",
       "        vertical-align: top;\n",
       "    }\n",
       "\n",
       "    .dataframe thead th {\n",
       "        text-align: right;\n",
       "    }\n",
       "</style>\n",
       "<table border=\"1\" class=\"dataframe\">\n",
       "  <thead>\n",
       "    <tr style=\"text-align: right;\">\n",
       "      <th></th>\n",
       "      <th>Tweet</th>\n",
       "      <th>Product</th>\n",
       "      <th>Sentiment</th>\n",
       "      <th>Brand</th>\n",
       "      <th>Cleaned_Tweet</th>\n",
       "      <th>Preprocessed_Text</th>\n",
       "    </tr>\n",
       "  </thead>\n",
       "  <tbody>\n",
       "    <tr>\n",
       "      <th>0</th>\n",
       "      <td>.@wesley83 I have a 3G iPhone. After 3 hrs tweeting at #RISE_Austin, it was dead!  I need to upgrade. Plugin stations at #SXSW.</td>\n",
       "      <td>iPhone</td>\n",
       "      <td>Negative</td>\n",
       "      <td>Apple</td>\n",
       "      <td>have iphone after hrs tweeting rise austin was dead need upgrade plugin stations</td>\n",
       "      <td>[iphon, hr, tweet, rise, austin, dead, need, upgrad, plugin, station]</td>\n",
       "    </tr>\n",
       "    <tr>\n",
       "      <th>1</th>\n",
       "      <td>@jessedee Know about @fludapp ? Awesome iPad/iPhone app that you'll likely appreciate for its design. Also, they're giving free Ts at #SXSW</td>\n",
       "      <td>iPad or iPhone App</td>\n",
       "      <td>Non-Negative</td>\n",
       "      <td>Apple</td>\n",
       "      <td>know about awesome ipad iphone app that you likely appreciate for its design also they giving free</td>\n",
       "      <td>[know, awesom, ipad, iphon, app, like, appreci, design, also, give, free]</td>\n",
       "    </tr>\n",
       "    <tr>\n",
       "      <th>2</th>\n",
       "      <td>@swonderlin Can not wait for #iPad 2 also. They should sale them down at #SXSW.</td>\n",
       "      <td>iPad</td>\n",
       "      <td>Non-Negative</td>\n",
       "      <td>Apple</td>\n",
       "      <td>can not wait for ipad also they should sale them down</td>\n",
       "      <td>[wait, ipad, also, sale]</td>\n",
       "    </tr>\n",
       "    <tr>\n",
       "      <th>3</th>\n",
       "      <td>@sxsw I hope this year's festival isn't as crashy as this year's iPhone app. #sxsw</td>\n",
       "      <td>iPad or iPhone App</td>\n",
       "      <td>Negative</td>\n",
       "      <td>Apple</td>\n",
       "      <td>hope this year festival isn crashy this year iphone app</td>\n",
       "      <td>[hope, year, festiv, crashi, year, iphon, app]</td>\n",
       "    </tr>\n",
       "    <tr>\n",
       "      <th>4</th>\n",
       "      <td>@sxtxstate great stuff on Fri #SXSW: Marissa Mayer (Google), Tim O'Reilly (tech books/conferences) &amp;amp; Matt Mullenweg (Wordpress)</td>\n",
       "      <td>Google</td>\n",
       "      <td>Non-Negative</td>\n",
       "      <td>Google</td>\n",
       "      <td>great stuff fri marissa mayer google tim reilly tech books conferences matt mullenweg wordpress</td>\n",
       "      <td>[great, stuff, fri, marissa, mayer, googl, tim, reilli, tech, book, confer, matt, mullenweg, wordpress]</td>\n",
       "    </tr>\n",
       "  </tbody>\n",
       "</table>\n",
       "</div>"
      ],
      "text/plain": [
       "                                                                                                                                         Tweet  \\\n",
       "0  .@wesley83 I have a 3G iPhone. After 3 hrs tweeting at #RISE_Austin, it was dead!  I need to upgrade. Plugin stations at #SXSW.               \n",
       "1  @jessedee Know about @fludapp ? Awesome iPad/iPhone app that you'll likely appreciate for its design. Also, they're giving free Ts at #SXSW   \n",
       "2  @swonderlin Can not wait for #iPad 2 also. They should sale them down at #SXSW.                                                               \n",
       "3  @sxsw I hope this year's festival isn't as crashy as this year's iPhone app. #sxsw                                                            \n",
       "4  @sxtxstate great stuff on Fri #SXSW: Marissa Mayer (Google), Tim O'Reilly (tech books/conferences) &amp; Matt Mullenweg (Wordpress)           \n",
       "\n",
       "              Product     Sentiment   Brand  \\\n",
       "0  iPhone              Negative      Apple    \n",
       "1  iPad or iPhone App  Non-Negative  Apple    \n",
       "2  iPad                Non-Negative  Apple    \n",
       "3  iPad or iPhone App  Negative      Apple    \n",
       "4  Google              Non-Negative  Google   \n",
       "\n",
       "                                                                                        Cleaned_Tweet  \\\n",
       "0  have iphone after hrs tweeting rise austin was dead need upgrade plugin stations                     \n",
       "1  know about awesome ipad iphone app that you likely appreciate for its design also they giving free   \n",
       "2  can not wait for ipad also they should sale them down                                                \n",
       "3  hope this year festival isn crashy this year iphone app                                              \n",
       "4  great stuff fri marissa mayer google tim reilly tech books conferences matt mullenweg wordpress      \n",
       "\n",
       "                                                                                         Preprocessed_Text  \n",
       "0  [iphon, hr, tweet, rise, austin, dead, need, upgrad, plugin, station]                                    \n",
       "1  [know, awesom, ipad, iphon, app, like, appreci, design, also, give, free]                                \n",
       "2  [wait, ipad, also, sale]                                                                                 \n",
       "3  [hope, year, festiv, crashi, year, iphon, app]                                                           \n",
       "4  [great, stuff, fri, marissa, mayer, googl, tim, reilli, tech, book, confer, matt, mullenweg, wordpress]  "
      ]
     },
     "execution_count": 21,
     "metadata": {},
     "output_type": "execute_result"
    }
   ],
   "source": [
    "df.head()"
   ]
  },
  {
   "cell_type": "code",
   "execution_count": 65,
   "metadata": {
    "scrolled": false
   },
   "outputs": [
    {
     "data": {
      "image/png": "[encoded data removed]",
      "text/plain": [
       "<Figure size 864x576 with 1 Axes>"
      ]
     },
     "metadata": {
      "needs_background": "light"
     },
     "output_type": "display_data"
    }
   ],
   "source": [
    "grouped = df.groupby(['Sentiment', 'Brand']).count()['Cleaned_Tweet']\n",
    "\n",
    "fig = grouped.unstack().plot(kind='bar', stacked=True, align=\"center\",figsize=(12,8))\n",
    "\n",
    "fig.set_title('Sentiment by Product',fontsize=32)\n",
    "\n",
    "fig.set_xlabel('Sentiment',fontsize=24)\n",
    "fig.set_ylabel('Occurrences by Brand',fontsize=24)\n",
    "fig.tick_params(labelsize=20)\n",
    "plt.xticks(rotation=0)\n",
    "fig.legend(loc='upper left', fontsize='xx-large');\n",
    "# plt.savefig('Images/sentiment_bars')"
   ]
  },
  {
   "cell_type": "code",
   "execution_count": 23,
   "metadata": {},
   "outputs": [
    {
     "data": {
      "text/plain": [
       "<Figure size 1800x1080 with 0 Axes>"
      ]
     },
     "metadata": {},
     "output_type": "display_data"
    },
    {
     "data": {
      "image/png": "[encoded data removed]",
      "text/plain": [
       "<Figure size 432x288 with 1 Axes>"
      ]
     },
     "metadata": {
      "needs_background": "light"
     },
     "output_type": "display_data"
    }
   ],
   "source": [
    "grouped = df.groupby(['Brand','Sentiment']).count()['Cleaned_Tweet']\n",
    "plt.figure(figsize=(25, 15))\n",
    "fig = grouped.unstack().plot(kind='bar', stacked=True, align=\"center\")\n",
    "fig.set_title('Sentiment by Brand')\n",
    "fig.set_xlabel('Brand')\n",
    "fig.set_ylabel('Occurrences')\n",
    "fig.legend(loc='upper right');"
   ]
  },
  {
   "cell_type": "code",
   "execution_count": 24,
   "metadata": {},
   "outputs": [],
   "source": [
    "X = df['Cleaned_Tweet']\n",
    "y = df['Sentiment']\n",
    "X_train, X_test, y_train, y_test = train_test_split(X, y, random_state=42)"
   ]
  },
  {
   "cell_type": "code",
   "execution_count": 25,
   "metadata": {},
   "outputs": [],
   "source": [
    "# vectorizer = CountVectorizer()\n",
    "# X_train_vectorized = vectorizer.fit_transform(X_train)\n",
    "# X_test_vectorized = vectorizer.transform(X_test)"
   ]
  },
  {
   "cell_type": "code",
   "execution_count": 26,
   "metadata": {},
   "outputs": [],
   "source": [
    "tfidf = TfidfVectorizer(stop_words=stopwords_list, max_features=200)\n",
    "X_train_vectorized = tfidf.fit_transform(X_train)\n",
    "X_test_vectorized = tfidf.transform(X_test)"
   ]
  },
  {
   "cell_type": "code",
   "execution_count": 27,
   "metadata": {
    "scrolled": true
   },
   "outputs": [
    {
     "data": {
      "text/html": [
       "<div>\n",
       "<style scoped>\n",
       "    .dataframe tbody tr th:only-of-type {\n",
       "        vertical-align: middle;\n",
       "    }\n",
       "\n",
       "    .dataframe tbody tr th {\n",
       "        vertical-align: top;\n",
       "    }\n",
       "\n",
       "    .dataframe thead th {\n",
       "        text-align: right;\n",
       "    }\n",
       "</style>\n",
       "<table border=\"1\" class=\"dataframe\">\n",
       "  <thead>\n",
       "    <tr style=\"text-align: right;\">\n",
       "      <th></th>\n",
       "      <th>action</th>\n",
       "      <th>already</th>\n",
       "      <th>also</th>\n",
       "      <th>android</th>\n",
       "      <th>anyone</th>\n",
       "      <th>app</th>\n",
       "      <th>apple</th>\n",
       "      <th>apps</th>\n",
       "      <th>around</th>\n",
       "      <th>art</th>\n",
       "      <th>...</th>\n",
       "      <th>white</th>\n",
       "      <th>win</th>\n",
       "      <th>winning</th>\n",
       "      <th>wins</th>\n",
       "      <th>work</th>\n",
       "      <th>would</th>\n",
       "      <th>wow</th>\n",
       "      <th>year</th>\n",
       "      <th>yes</th>\n",
       "      <th>yet</th>\n",
       "    </tr>\n",
       "  </thead>\n",
       "  <tbody>\n",
       "    <tr>\n",
       "      <th>0</th>\n",
       "      <td>0.0</td>\n",
       "      <td>0.0</td>\n",
       "      <td>0.0</td>\n",
       "      <td>0.0</td>\n",
       "      <td>0.0</td>\n",
       "      <td>0.0</td>\n",
       "      <td>0.000000</td>\n",
       "      <td>0.0</td>\n",
       "      <td>0.0</td>\n",
       "      <td>0.0</td>\n",
       "      <td>...</td>\n",
       "      <td>0.0</td>\n",
       "      <td>0.0</td>\n",
       "      <td>0.0</td>\n",
       "      <td>0.0</td>\n",
       "      <td>0.000000</td>\n",
       "      <td>0.0</td>\n",
       "      <td>0.0</td>\n",
       "      <td>0.0</td>\n",
       "      <td>0.0</td>\n",
       "      <td>0.00000</td>\n",
       "    </tr>\n",
       "    <tr>\n",
       "      <th>1</th>\n",
       "      <td>0.0</td>\n",
       "      <td>0.0</td>\n",
       "      <td>0.0</td>\n",
       "      <td>0.0</td>\n",
       "      <td>0.0</td>\n",
       "      <td>0.0</td>\n",
       "      <td>0.259208</td>\n",
       "      <td>0.0</td>\n",
       "      <td>0.0</td>\n",
       "      <td>0.0</td>\n",
       "      <td>...</td>\n",
       "      <td>0.0</td>\n",
       "      <td>0.0</td>\n",
       "      <td>0.0</td>\n",
       "      <td>0.0</td>\n",
       "      <td>0.000000</td>\n",
       "      <td>0.0</td>\n",
       "      <td>0.0</td>\n",
       "      <td>0.0</td>\n",
       "      <td>0.0</td>\n",
       "      <td>0.00000</td>\n",
       "    </tr>\n",
       "    <tr>\n",
       "      <th>2</th>\n",
       "      <td>0.0</td>\n",
       "      <td>0.0</td>\n",
       "      <td>0.0</td>\n",
       "      <td>0.0</td>\n",
       "      <td>0.0</td>\n",
       "      <td>0.0</td>\n",
       "      <td>0.231127</td>\n",
       "      <td>0.0</td>\n",
       "      <td>0.0</td>\n",
       "      <td>0.0</td>\n",
       "      <td>...</td>\n",
       "      <td>0.0</td>\n",
       "      <td>0.0</td>\n",
       "      <td>0.0</td>\n",
       "      <td>0.0</td>\n",
       "      <td>0.562686</td>\n",
       "      <td>0.0</td>\n",
       "      <td>0.0</td>\n",
       "      <td>0.0</td>\n",
       "      <td>0.0</td>\n",
       "      <td>0.00000</td>\n",
       "    </tr>\n",
       "    <tr>\n",
       "      <th>3</th>\n",
       "      <td>0.0</td>\n",
       "      <td>0.0</td>\n",
       "      <td>0.0</td>\n",
       "      <td>0.0</td>\n",
       "      <td>0.0</td>\n",
       "      <td>0.0</td>\n",
       "      <td>0.000000</td>\n",
       "      <td>0.0</td>\n",
       "      <td>0.0</td>\n",
       "      <td>0.0</td>\n",
       "      <td>...</td>\n",
       "      <td>0.0</td>\n",
       "      <td>0.0</td>\n",
       "      <td>0.0</td>\n",
       "      <td>0.0</td>\n",
       "      <td>0.000000</td>\n",
       "      <td>0.0</td>\n",
       "      <td>0.0</td>\n",
       "      <td>0.0</td>\n",
       "      <td>0.0</td>\n",
       "      <td>0.00000</td>\n",
       "    </tr>\n",
       "    <tr>\n",
       "      <th>4</th>\n",
       "      <td>0.0</td>\n",
       "      <td>0.0</td>\n",
       "      <td>0.0</td>\n",
       "      <td>0.0</td>\n",
       "      <td>0.0</td>\n",
       "      <td>0.0</td>\n",
       "      <td>0.000000</td>\n",
       "      <td>0.0</td>\n",
       "      <td>0.0</td>\n",
       "      <td>0.0</td>\n",
       "      <td>...</td>\n",
       "      <td>0.0</td>\n",
       "      <td>0.0</td>\n",
       "      <td>0.0</td>\n",
       "      <td>0.0</td>\n",
       "      <td>0.000000</td>\n",
       "      <td>0.0</td>\n",
       "      <td>0.0</td>\n",
       "      <td>0.0</td>\n",
       "      <td>0.0</td>\n",
       "      <td>0.00000</td>\n",
       "    </tr>\n",
       "    <tr>\n",
       "      <th>...</th>\n",
       "      <td>...</td>\n",
       "      <td>...</td>\n",
       "      <td>...</td>\n",
       "      <td>...</td>\n",
       "      <td>...</td>\n",
       "      <td>...</td>\n",
       "      <td>...</td>\n",
       "      <td>...</td>\n",
       "      <td>...</td>\n",
       "      <td>...</td>\n",
       "      <td>...</td>\n",
       "      <td>...</td>\n",
       "      <td>...</td>\n",
       "      <td>...</td>\n",
       "      <td>...</td>\n",
       "      <td>...</td>\n",
       "      <td>...</td>\n",
       "      <td>...</td>\n",
       "      <td>...</td>\n",
       "      <td>...</td>\n",
       "      <td>...</td>\n",
       "    </tr>\n",
       "    <tr>\n",
       "      <th>6797</th>\n",
       "      <td>0.0</td>\n",
       "      <td>0.0</td>\n",
       "      <td>0.0</td>\n",
       "      <td>0.0</td>\n",
       "      <td>0.0</td>\n",
       "      <td>0.0</td>\n",
       "      <td>0.000000</td>\n",
       "      <td>0.0</td>\n",
       "      <td>0.0</td>\n",
       "      <td>0.0</td>\n",
       "      <td>...</td>\n",
       "      <td>0.0</td>\n",
       "      <td>0.0</td>\n",
       "      <td>0.0</td>\n",
       "      <td>0.0</td>\n",
       "      <td>0.000000</td>\n",
       "      <td>0.0</td>\n",
       "      <td>0.0</td>\n",
       "      <td>0.0</td>\n",
       "      <td>0.0</td>\n",
       "      <td>0.00000</td>\n",
       "    </tr>\n",
       "    <tr>\n",
       "      <th>6798</th>\n",
       "      <td>0.0</td>\n",
       "      <td>0.0</td>\n",
       "      <td>0.0</td>\n",
       "      <td>0.0</td>\n",
       "      <td>0.0</td>\n",
       "      <td>0.0</td>\n",
       "      <td>0.000000</td>\n",
       "      <td>0.0</td>\n",
       "      <td>0.0</td>\n",
       "      <td>0.0</td>\n",
       "      <td>...</td>\n",
       "      <td>0.0</td>\n",
       "      <td>0.0</td>\n",
       "      <td>0.0</td>\n",
       "      <td>0.0</td>\n",
       "      <td>0.000000</td>\n",
       "      <td>0.0</td>\n",
       "      <td>0.0</td>\n",
       "      <td>0.0</td>\n",
       "      <td>0.0</td>\n",
       "      <td>0.00000</td>\n",
       "    </tr>\n",
       "    <tr>\n",
       "      <th>6799</th>\n",
       "      <td>0.0</td>\n",
       "      <td>0.0</td>\n",
       "      <td>0.0</td>\n",
       "      <td>0.0</td>\n",
       "      <td>0.0</td>\n",
       "      <td>0.0</td>\n",
       "      <td>0.264663</td>\n",
       "      <td>0.0</td>\n",
       "      <td>0.0</td>\n",
       "      <td>0.0</td>\n",
       "      <td>...</td>\n",
       "      <td>0.0</td>\n",
       "      <td>0.0</td>\n",
       "      <td>0.0</td>\n",
       "      <td>0.0</td>\n",
       "      <td>0.000000</td>\n",
       "      <td>0.0</td>\n",
       "      <td>0.0</td>\n",
       "      <td>0.0</td>\n",
       "      <td>0.0</td>\n",
       "      <td>0.64206</td>\n",
       "    </tr>\n",
       "    <tr>\n",
       "      <th>6800</th>\n",
       "      <td>0.0</td>\n",
       "      <td>0.0</td>\n",
       "      <td>0.0</td>\n",
       "      <td>0.0</td>\n",
       "      <td>0.0</td>\n",
       "      <td>0.0</td>\n",
       "      <td>0.000000</td>\n",
       "      <td>0.0</td>\n",
       "      <td>0.0</td>\n",
       "      <td>0.0</td>\n",
       "      <td>...</td>\n",
       "      <td>0.0</td>\n",
       "      <td>0.0</td>\n",
       "      <td>0.0</td>\n",
       "      <td>0.0</td>\n",
       "      <td>0.000000</td>\n",
       "      <td>0.0</td>\n",
       "      <td>0.0</td>\n",
       "      <td>0.0</td>\n",
       "      <td>0.0</td>\n",
       "      <td>0.00000</td>\n",
       "    </tr>\n",
       "    <tr>\n",
       "      <th>6801</th>\n",
       "      <td>0.0</td>\n",
       "      <td>0.0</td>\n",
       "      <td>0.0</td>\n",
       "      <td>0.0</td>\n",
       "      <td>0.0</td>\n",
       "      <td>0.0</td>\n",
       "      <td>0.000000</td>\n",
       "      <td>0.0</td>\n",
       "      <td>0.0</td>\n",
       "      <td>0.0</td>\n",
       "      <td>...</td>\n",
       "      <td>0.0</td>\n",
       "      <td>0.0</td>\n",
       "      <td>0.0</td>\n",
       "      <td>0.0</td>\n",
       "      <td>0.000000</td>\n",
       "      <td>0.0</td>\n",
       "      <td>0.0</td>\n",
       "      <td>0.0</td>\n",
       "      <td>0.0</td>\n",
       "      <td>0.00000</td>\n",
       "    </tr>\n",
       "  </tbody>\n",
       "</table>\n",
       "<p>6802 rows × 200 columns</p>\n",
       "</div>"
      ],
      "text/plain": [
       "      action  already  also  android  anyone  app     apple  apps  around  \\\n",
       "0     0.0     0.0      0.0   0.0      0.0     0.0  0.000000  0.0   0.0      \n",
       "1     0.0     0.0      0.0   0.0      0.0     0.0  0.259208  0.0   0.0      \n",
       "2     0.0     0.0      0.0   0.0      0.0     0.0  0.231127  0.0   0.0      \n",
       "3     0.0     0.0      0.0   0.0      0.0     0.0  0.000000  0.0   0.0      \n",
       "4     0.0     0.0      0.0   0.0      0.0     0.0  0.000000  0.0   0.0      \n",
       "...   ...     ...      ...   ...      ...     ...       ...  ...   ...      \n",
       "6797  0.0     0.0      0.0   0.0      0.0     0.0  0.000000  0.0   0.0      \n",
       "6798  0.0     0.0      0.0   0.0      0.0     0.0  0.000000  0.0   0.0      \n",
       "6799  0.0     0.0      0.0   0.0      0.0     0.0  0.264663  0.0   0.0      \n",
       "6800  0.0     0.0      0.0   0.0      0.0     0.0  0.000000  0.0   0.0      \n",
       "6801  0.0     0.0      0.0   0.0      0.0     0.0  0.000000  0.0   0.0      \n",
       "\n",
       "      art  ...  white  win  winning  wins      work  would  wow  year  yes  \\\n",
       "0     0.0  ...  0.0    0.0  0.0      0.0   0.000000  0.0    0.0  0.0   0.0   \n",
       "1     0.0  ...  0.0    0.0  0.0      0.0   0.000000  0.0    0.0  0.0   0.0   \n",
       "2     0.0  ...  0.0    0.0  0.0      0.0   0.562686  0.0    0.0  0.0   0.0   \n",
       "3     0.0  ...  0.0    0.0  0.0      0.0   0.000000  0.0    0.0  0.0   0.0   \n",
       "4     0.0  ...  0.0    0.0  0.0      0.0   0.000000  0.0    0.0  0.0   0.0   \n",
       "...   ...  ...  ...    ...  ...      ...        ...  ...    ...  ...   ...   \n",
       "6797  0.0  ...  0.0    0.0  0.0      0.0   0.000000  0.0    0.0  0.0   0.0   \n",
       "6798  0.0  ...  0.0    0.0  0.0      0.0   0.000000  0.0    0.0  0.0   0.0   \n",
       "6799  0.0  ...  0.0    0.0  0.0      0.0   0.000000  0.0    0.0  0.0   0.0   \n",
       "6800  0.0  ...  0.0    0.0  0.0      0.0   0.000000  0.0    0.0  0.0   0.0   \n",
       "6801  0.0  ...  0.0    0.0  0.0      0.0   0.000000  0.0    0.0  0.0   0.0   \n",
       "\n",
       "          yet  \n",
       "0     0.00000  \n",
       "1     0.00000  \n",
       "2     0.00000  \n",
       "3     0.00000  \n",
       "4     0.00000  \n",
       "...       ...  \n",
       "6797  0.00000  \n",
       "6798  0.00000  \n",
       "6799  0.64206  \n",
       "6800  0.00000  \n",
       "6801  0.00000  \n",
       "\n",
       "[6802 rows x 200 columns]"
      ]
     },
     "execution_count": 27,
     "metadata": {},
     "output_type": "execute_result"
    }
   ],
   "source": [
    "# Visually inspect the 10 most common words\n",
    "pd.DataFrame.sparse.from_spmatrix(X_train_vectorized, columns=tfidf.get_feature_names())"
   ]
  },
  {
   "cell_type": "markdown",
   "metadata": {},
   "source": [
    "# Modeling"
   ]
  },
  {
   "cell_type": "markdown",
   "metadata": {},
   "source": [
    "### Baseline"
   ]
  },
  {
   "cell_type": "code",
   "execution_count": 28,
   "metadata": {},
   "outputs": [
    {
     "data": {
      "text/plain": [
       "0.9382534548662158"
      ]
     },
     "execution_count": 28,
     "metadata": {},
     "output_type": "execute_result"
    }
   ],
   "source": [
    "baseline_model = MultinomialNB()\n",
    "baseline_model.fit(X_train_vectorized, y_train)\n",
    "baseline_model.score(X_train_vectorized, y_train)"
   ]
  },
  {
   "cell_type": "markdown",
   "metadata": {},
   "source": [
    "### RandomForest"
   ]
  },
  {
   "cell_type": "code",
   "execution_count": 29,
   "metadata": {
    "scrolled": true
   },
   "outputs": [
    {
     "data": {
      "text/plain": [
       "0.981182005292561"
      ]
     },
     "execution_count": 29,
     "metadata": {},
     "output_type": "execute_result"
    }
   ],
   "source": [
    "rf = RandomForestClassifier()\n",
    "rf.fit(X_train_vectorized, y_train)\n",
    "rf.score(X_train_vectorized, y_train)"
   ]
  },
  {
   "cell_type": "code",
   "execution_count": 30,
   "metadata": {
    "scrolled": true
   },
   "outputs": [
    {
     "data": {
      "image/png": "[encoded data removed]",
      "text/plain": [
       "<Figure size 576x576 with 2 Axes>"
      ]
     },
     "metadata": {
      "needs_background": "light"
     },
     "output_type": "display_data"
    }
   ],
   "source": [
    "fig, ax = plt.subplots(figsize=(8,8))\n",
    "plot_confusion_matrix(rf, X_test_vectorized, y_test, ax=ax, cmap=\"cividis\");"
   ]
  },
  {
   "cell_type": "code",
   "execution_count": 31,
   "metadata": {},
   "outputs": [
    {
     "name": "stdout",
     "output_type": "stream",
     "text": [
      "0.9369488536155203\n"
     ]
    }
   ],
   "source": [
    "y_pred_rf = rf.predict(X_test_vectorized)\n",
    "print(accuracy_score(y_test, y_pred_rf))"
   ]
  },
  {
   "cell_type": "markdown",
   "metadata": {},
   "source": [
    "### DecisionTree"
   ]
  },
  {
   "cell_type": "code",
   "execution_count": 32,
   "metadata": {},
   "outputs": [
    {
     "data": {
      "text/plain": [
       "0.981182005292561"
      ]
     },
     "execution_count": 32,
     "metadata": {},
     "output_type": "execute_result"
    }
   ],
   "source": [
    "dt = DecisionTreeClassifier()\n",
    "dt.fit(X_train_vectorized, y_train)\n",
    "dt.score(X_train_vectorized, y_train)"
   ]
  },
  {
   "cell_type": "code",
   "execution_count": 33,
   "metadata": {
    "scrolled": true
   },
   "outputs": [
    {
     "data": {
      "image/png": "[encoded data removed]",
      "text/plain": [
       "<Figure size 576x576 with 2 Axes>"
      ]
     },
     "metadata": {
      "needs_background": "light"
     },
     "output_type": "display_data"
    }
   ],
   "source": [
    "fig, ax = plt.subplots(figsize=(8,8))\n",
    "plot_confusion_matrix(dt, X_test_vectorized, y_test, ax=ax, cmap=\"cividis\");"
   ]
  },
  {
   "cell_type": "code",
   "execution_count": 34,
   "metadata": {},
   "outputs": [
    {
     "name": "stdout",
     "output_type": "stream",
     "text": [
      "0.9241622574955908\n"
     ]
    }
   ],
   "source": [
    "y_pred_dt = dt.predict(X_test_vectorized)\n",
    "print(accuracy_score(y_test, y_pred_dt))"
   ]
  },
  {
   "cell_type": "markdown",
   "metadata": {},
   "source": [
    "### XGBoost"
   ]
  },
  {
   "cell_type": "code",
   "execution_count": 35,
   "metadata": {},
   "outputs": [],
   "source": [
    "from xgboost import XGBClassifier"
   ]
  },
  {
   "cell_type": "code",
   "execution_count": 36,
   "metadata": {},
   "outputs": [
    {
     "name": "stderr",
     "output_type": "stream",
     "text": [
      "C:\\Users\\dougl\\anaconda3\\envs\\learn-env\\lib\\site-packages\\xgboost\\sklearn.py:888: UserWarning: The use of label encoder in XGBClassifier is deprecated and will be removed in a future release. To remove this warning, do the following: 1) Pass option use_label_encoder=False when constructing XGBClassifier object; and 2) Encode your labels (y) as integers starting with 0, i.e. 0, 1, 2, ..., [num_class - 1].\n",
      "  warnings.warn(label_encoder_deprecation_msg, UserWarning)\n"
     ]
    },
    {
     "data": {
      "text/plain": [
       "0.9539841223169656"
      ]
     },
     "execution_count": 36,
     "metadata": {},
     "output_type": "execute_result"
    }
   ],
   "source": [
    "xgb = XGBClassifier(eval_metric='mlogloss')\n",
    "xgb.fit(X_train_vectorized, y_train)\n",
    "xgb.score(X_train_vectorized, y_train)"
   ]
  },
  {
   "cell_type": "code",
   "execution_count": 37,
   "metadata": {},
   "outputs": [
    {
     "name": "stdout",
     "output_type": "stream",
     "text": [
      "0.9351851851851852\n"
     ]
    }
   ],
   "source": [
    "y_pred_xgb = xgb.predict(X_test_vectorized)\n",
    "print(accuracy_score(y_test, y_pred_xgb))"
   ]
  },
  {
   "cell_type": "code",
   "execution_count": null,
   "metadata": {},
   "outputs": [],
   "source": []
  }
 ],
 "metadata": {
  "kernelspec": {
   "display_name": "Python (learn-env)",
   "language": "python",
   "name": "learn-env"
  },
  "language_info": {
   "codemirror_mode": {
    "name": "ipython",
    "version": 3
   },
   "file_extension": ".py",
   "mimetype": "text/x-python",
   "name": "python",
   "nbconvert_exporter": "python",
   "pygments_lexer": "ipython3",
   "version": "3.8.5"
  }
 },
 "nbformat": 4,
 "nbformat_minor": 4
}
