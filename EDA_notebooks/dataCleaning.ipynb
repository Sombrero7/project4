{
 "cells": [
  {
   "cell_type": "markdown",
   "metadata": {},
   "source": [
    "# Data Cleaning and EDA"
   ]
  },
  {
   "cell_type": "code",
   "execution_count": 6,
   "metadata": {},
   "outputs": [
    {
     "ename": "ModuleNotFoundError",
     "evalue": "No module named 'wordcloud'",
     "output_type": "error",
     "traceback": [
      "\u001b[0;31m---------------------------------------------------------------------------\u001b[0m",
      "\u001b[0;31mModuleNotFoundError\u001b[0m                       Traceback (most recent call last)",
      "\u001b[0;32m<ipython-input-6-791c34190ce8>\u001b[0m in \u001b[0;36m<module>\u001b[0;34m\u001b[0m\n\u001b[1;32m     15\u001b[0m \u001b[0;32mimport\u001b[0m \u001b[0mmatplotlib\u001b[0m\u001b[0;34m.\u001b[0m\u001b[0mpyplot\u001b[0m \u001b[0;32mas\u001b[0m \u001b[0mplt\u001b[0m\u001b[0;34m\u001b[0m\u001b[0;34m\u001b[0m\u001b[0m\n\u001b[1;32m     16\u001b[0m \u001b[0;32mimport\u001b[0m \u001b[0mseaborn\u001b[0m \u001b[0;32mas\u001b[0m \u001b[0msns\u001b[0m\u001b[0;34m\u001b[0m\u001b[0;34m\u001b[0m\u001b[0m\n\u001b[0;32m---> 17\u001b[0;31m \u001b[0;32mfrom\u001b[0m \u001b[0mwordcloud\u001b[0m \u001b[0;32mimport\u001b[0m \u001b[0mWordCloud\u001b[0m\u001b[0;34m\u001b[0m\u001b[0;34m\u001b[0m\u001b[0m\n\u001b[0m\u001b[1;32m     18\u001b[0m \u001b[0mpd\u001b[0m\u001b[0;34m.\u001b[0m\u001b[0mset_option\u001b[0m\u001b[0;34m(\u001b[0m\u001b[0;34m'display.max_colwidth'\u001b[0m\u001b[0;34m,\u001b[0m \u001b[0;34m-\u001b[0m\u001b[0;36m1\u001b[0m\u001b[0;34m)\u001b[0m\u001b[0;34m\u001b[0m\u001b[0;34m\u001b[0m\u001b[0m\n",
      "\u001b[0;31mModuleNotFoundError\u001b[0m: No module named 'wordcloud'"
     ]
    }
   ],
   "source": [
    "import pandas as pd\n",
    "import numpy as np\n",
    "import nltk\n",
    "from nltk.tokenize import RegexpTokenizer, TweetTokenizer, word_tokenize\n",
    "from nltk.corpus import stopwords\n",
    "from nltk.stem import PorterStemmer, SnowballStemmer\n",
    "from sklearn.feature_extraction.text import TfidfVectorizer, CountVectorizer\n",
    "from sklearn.model_selection import train_test_split\n",
    "from sklearn.tree import DecisionTreeClassifier\n",
    "from sklearn.ensemble import RandomForestClassifier\n",
    "from sklearn.naive_bayes import MultinomialNB\n",
    "from sklearn.model_selection import cross_val_score\n",
    "import re\n",
    "import string\n",
    "import matplotlib.pyplot as plt\n",
    "import seaborn as sns\n",
    "from wordcloud import WordCloud\n",
    "pd.set_option('display.max_colwidth', -1)"
   ]
  },
  {
   "cell_type": "code",
   "execution_count": 7,
   "metadata": {},
   "outputs": [
    {
     "name": "stdout",
     "output_type": "stream",
     "text": [
      "Collecting wordcloud\n",
      "  Using cached wordcloud-1.8.1.tar.gz (220 kB)\n",
      "Requirement already satisfied: numpy>=1.6.1 in /opt/anaconda3/envs/learn-env/lib/python3.8/site-packages (from wordcloud) (1.19.5)\n",
      "Requirement already satisfied: pillow in /opt/anaconda3/envs/learn-env/lib/python3.8/site-packages (from wordcloud) (7.2.0)\n",
      "Requirement already satisfied: matplotlib in /opt/anaconda3/envs/learn-env/lib/python3.8/site-packages (from wordcloud) (3.3.1)\n",
      "Requirement already satisfied: python-dateutil>=2.1 in /opt/anaconda3/envs/learn-env/lib/python3.8/site-packages (from matplotlib->wordcloud) (2.8.1)\n",
      "Requirement already satisfied: pyparsing!=2.0.4,!=2.1.2,!=2.1.6,>=2.0.3 in /opt/anaconda3/envs/learn-env/lib/python3.8/site-packages (from matplotlib->wordcloud) (2.4.7)\n",
      "Requirement already satisfied: certifi>=2020.06.20 in /opt/anaconda3/envs/learn-env/lib/python3.8/site-packages (from matplotlib->wordcloud) (2021.10.8)\n",
      "Requirement already satisfied: kiwisolver>=1.0.1 in /opt/anaconda3/envs/learn-env/lib/python3.8/site-packages (from matplotlib->wordcloud) (1.2.0)\n",
      "Requirement already satisfied: cycler>=0.10 in /opt/anaconda3/envs/learn-env/lib/python3.8/site-packages (from matplotlib->wordcloud) (0.10.0)\n",
      "Requirement already satisfied: six>=1.5 in /opt/anaconda3/envs/learn-env/lib/python3.8/site-packages (from python-dateutil>=2.1->matplotlib->wordcloud) (1.15.0)\n",
      "Building wheels for collected packages: wordcloud\n",
      "  Building wheel for wordcloud (setup.py) ... \u001b[?25lerror\n",
      "\u001b[31m  ERROR: Command errored out with exit status 1:\n",
      "   command: /opt/anaconda3/envs/learn-env/bin/python3.8 -u -c 'import sys, setuptools, tokenize; sys.argv[0] = '\"'\"'/private/var/folders/wb/ttw_y56d5njf1jjf40nd748m0000gn/T/pip-install-ll8ett7f/wordcloud/setup.py'\"'\"'; __file__='\"'\"'/private/var/folders/wb/ttw_y56d5njf1jjf40nd748m0000gn/T/pip-install-ll8ett7f/wordcloud/setup.py'\"'\"';f=getattr(tokenize, '\"'\"'open'\"'\"', open)(__file__);code=f.read().replace('\"'\"'\\r\\n'\"'\"', '\"'\"'\\n'\"'\"');f.close();exec(compile(code, __file__, '\"'\"'exec'\"'\"'))' bdist_wheel -d /private/var/folders/wb/ttw_y56d5njf1jjf40nd748m0000gn/T/pip-wheel-xzfzlckq\n",
      "       cwd: /private/var/folders/wb/ttw_y56d5njf1jjf40nd748m0000gn/T/pip-install-ll8ett7f/wordcloud/\n",
      "  Complete output (65 lines):\n",
      "  running bdist_wheel\n",
      "  running build\n",
      "  running build_py\n",
      "  creating build\n",
      "  creating build/lib.macosx-10.9-x86_64-3.8\n",
      "  creating build/lib.macosx-10.9-x86_64-3.8/wordcloud\n",
      "  copying wordcloud/wordcloud_cli.py -> build/lib.macosx-10.9-x86_64-3.8/wordcloud\n",
      "  copying wordcloud/_version.py -> build/lib.macosx-10.9-x86_64-3.8/wordcloud\n",
      "  copying wordcloud/__init__.py -> build/lib.macosx-10.9-x86_64-3.8/wordcloud\n",
      "  copying wordcloud/tokenization.py -> build/lib.macosx-10.9-x86_64-3.8/wordcloud\n",
      "  copying wordcloud/wordcloud.py -> build/lib.macosx-10.9-x86_64-3.8/wordcloud\n",
      "  copying wordcloud/color_from_image.py -> build/lib.macosx-10.9-x86_64-3.8/wordcloud\n",
      "  copying wordcloud/__main__.py -> build/lib.macosx-10.9-x86_64-3.8/wordcloud\n",
      "  copying wordcloud/stopwords -> build/lib.macosx-10.9-x86_64-3.8/wordcloud\n",
      "  copying wordcloud/DroidSansMono.ttf -> build/lib.macosx-10.9-x86_64-3.8/wordcloud\n",
      "  UPDATING build/lib.macosx-10.9-x86_64-3.8/wordcloud/_version.py\n",
      "  set build/lib.macosx-10.9-x86_64-3.8/wordcloud/_version.py to '1.8.1'\n",
      "  running build_ext\n",
      "  building 'wordcloud.query_integral_image' extension\n",
      "  creating build/temp.macosx-10.9-x86_64-3.8\n",
      "  creating build/temp.macosx-10.9-x86_64-3.8/wordcloud\n",
      "  x86_64-apple-darwin13.4.0-clang -fno-strict-aliasing -Wsign-compare -Wunreachable-code -DNDEBUG -fwrapv -O3 -Wall -Wstrict-prototypes -march=core2 -mtune=haswell -mssse3 -ftree-vectorize -fPIC -fPIE -fstack-protector-strong -O3 -pipe -fdebug-prefix-map=${SRC_DIR}=/usr/local/src/conda/${PKG_NAME}-${PKG_VERSION} -fdebug-prefix-map=/opt/anaconda3/envs/learn-env=/usr/local/src/conda-prefix -flto -Wl,-export_dynamic -march=core2 -mtune=haswell -mssse3 -ftree-vectorize -fPIC -fPIE -fstack-protector-strong -O3 -march=core2 -mtune=haswell -mssse3 -ftree-vectorize -fPIC -fPIE -fstack-protector-strong -O2 -pipe -isystem /opt/anaconda3/envs/learn-env/include -D_FORTIFY_SOURCE=2 -mmacosx-version-min=10.9 -isystem /opt/anaconda3/envs/learn-env/include -I/opt/anaconda3/envs/learn-env/include/python3.8 -c wordcloud/query_integral_image.c -o build/temp.macosx-10.9-x86_64-3.8/wordcloud/query_integral_image.o\n",
      "  clang-10: warning: -Wl,-export_dynamic: 'linker' input unused [-Wunused-command-line-argument]\n",
      "  wordcloud/query_integral_image.c:15710:3: warning: 'tp_print' is deprecated [-Wdeprecated-declarations]\n",
      "    0, /*tp_print*/\n",
      "    ^\n",
      "  /opt/anaconda3/envs/learn-env/include/python3.8/cpython/object.h:260:5: note: 'tp_print' has been explicitly marked deprecated here\n",
      "      Py_DEPRECATED(3.8) int (*tp_print)(PyObject *, FILE *, int);\n",
      "      ^\n",
      "  /opt/anaconda3/envs/learn-env/include/python3.8/pyport.h:515:54: note: expanded from macro 'Py_DEPRECATED'\n",
      "  #define Py_DEPRECATED(VERSION_UNUSED) __attribute__((__deprecated__))\n",
      "                                                       ^\n",
      "  wordcloud/query_integral_image.c:15829:3: warning: 'tp_print' is deprecated [-Wdeprecated-declarations]\n",
      "    0, /*tp_print*/\n",
      "    ^\n",
      "  /opt/anaconda3/envs/learn-env/include/python3.8/cpython/object.h:260:5: note: 'tp_print' has been explicitly marked deprecated here\n",
      "      Py_DEPRECATED(3.8) int (*tp_print)(PyObject *, FILE *, int);\n",
      "      ^\n",
      "  /opt/anaconda3/envs/learn-env/include/python3.8/pyport.h:515:54: note: expanded from macro 'Py_DEPRECATED'\n",
      "  #define Py_DEPRECATED(VERSION_UNUSED) __attribute__((__deprecated__))\n",
      "                                                       ^\n",
      "  wordcloud/query_integral_image.c:16090:3: warning: 'tp_print' is deprecated [-Wdeprecated-declarations]\n",
      "    0, /*tp_print*/\n",
      "    ^\n",
      "  /opt/anaconda3/envs/learn-env/include/python3.8/cpython/object.h:260:5: note: 'tp_print' has been explicitly marked deprecated here\n",
      "      Py_DEPRECATED(3.8) int (*tp_print)(PyObject *, FILE *, int);\n",
      "      ^\n",
      "  /opt/anaconda3/envs/learn-env/include/python3.8/pyport.h:515:54: note: expanded from macro 'Py_DEPRECATED'\n",
      "  #define Py_DEPRECATED(VERSION_UNUSED) __attribute__((__deprecated__))\n",
      "                                                       ^\n",
      "  wordcloud/query_integral_image.c:16236:3: warning: 'tp_print' is deprecated [-Wdeprecated-declarations]\n",
      "    0, /*tp_print*/\n",
      "    ^\n",
      "  /opt/anaconda3/envs/learn-env/include/python3.8/cpython/object.h:260:5: note: 'tp_print' has been explicitly marked deprecated here\n",
      "      Py_DEPRECATED(3.8) int (*tp_print)(PyObject *, FILE *, int);\n",
      "      ^\n",
      "  /opt/anaconda3/envs/learn-env/include/python3.8/pyport.h:515:54: note: expanded from macro 'Py_DEPRECATED'\n",
      "  #define Py_DEPRECATED(VERSION_UNUSED) __attribute__((__deprecated__))\n",
      "                                                       ^\n",
      "  4 warnings generated.\n",
      "  x86_64-apple-darwin13.4.0-clang -bundle -undefined dynamic_lookup -Wl,-pie -Wl,-headerpad_max_install_names -Wl,-dead_strip_dylibs -Wl,-rpath,/opt/anaconda3/envs/learn-env/lib -L/opt/anaconda3/envs/learn-env/lib -flto -Wl,-export_dynamic -Wl,-pie -Wl,-headerpad_max_install_names -Wl,-dead_strip_dylibs -Wl,-rpath,/opt/anaconda3/envs/learn-env/lib -L/opt/anaconda3/envs/learn-env/lib -Wl,-pie -Wl,-headerpad_max_install_names -Wl,-dead_strip_dylibs -Wl,-rpath,/opt/anaconda3/envs/learn-env/lib -L/opt/anaconda3/envs/learn-env/lib -march=core2 -mtune=haswell -mssse3 -ftree-vectorize -fPIC -fPIE -fstack-protector-strong -O2 -pipe -isystem /opt/anaconda3/envs/learn-env/include -D_FORTIFY_SOURCE=2 -mmacosx-version-min=10.9 -isystem /opt/anaconda3/envs/learn-env/include -arch x86_64 build/temp.macosx-10.9-x86_64-3.8/wordcloud/query_integral_image.o -o build/lib.macosx-10.9-x86_64-3.8/wordcloud/query_integral_image.cpython-38-darwin.so\n",
      "  ld: warning: -pie being ignored. It is only used when linking a main executable\n",
      "  ld: unsupported tapi file type '!tapi-tbd' in YAML file '/Library/Developer/CommandLineTools/SDKs/MacOSX.sdk/usr/lib/libSystem.tbd' for architecture x86_64\n",
      "  clang-10: error: linker command failed with exit code 1 (use -v to see invocation)\n",
      "  error: command 'x86_64-apple-darwin13.4.0-clang' failed with exit status 1\n",
      "  ----------------------------------------\u001b[0m\n",
      "\u001b[31m  ERROR: Failed building wheel for wordcloud\u001b[0m\n",
      "\u001b[?25h  Running setup.py clean for wordcloud\n"
     ]
    },
    {
     "name": "stdout",
     "output_type": "stream",
     "text": [
      "Failed to build wordcloud\n",
      "Installing collected packages: wordcloud\n",
      "    Running setup.py install for wordcloud ... \u001b[?25lerror\n",
      "\u001b[31m    ERROR: Command errored out with exit status 1:\n",
      "     command: /opt/anaconda3/envs/learn-env/bin/python3.8 -u -c 'import sys, setuptools, tokenize; sys.argv[0] = '\"'\"'/private/var/folders/wb/ttw_y56d5njf1jjf40nd748m0000gn/T/pip-install-ll8ett7f/wordcloud/setup.py'\"'\"'; __file__='\"'\"'/private/var/folders/wb/ttw_y56d5njf1jjf40nd748m0000gn/T/pip-install-ll8ett7f/wordcloud/setup.py'\"'\"';f=getattr(tokenize, '\"'\"'open'\"'\"', open)(__file__);code=f.read().replace('\"'\"'\\r\\n'\"'\"', '\"'\"'\\n'\"'\"');f.close();exec(compile(code, __file__, '\"'\"'exec'\"'\"'))' install --record /private/var/folders/wb/ttw_y56d5njf1jjf40nd748m0000gn/T/pip-record-uatos1wq/install-record.txt --single-version-externally-managed --compile --install-headers /opt/anaconda3/envs/learn-env/include/python3.8/wordcloud\n",
      "         cwd: /private/var/folders/wb/ttw_y56d5njf1jjf40nd748m0000gn/T/pip-install-ll8ett7f/wordcloud/\n",
      "    Complete output (65 lines):\n",
      "    running install\n",
      "    running build\n",
      "    running build_py\n",
      "    creating build\n",
      "    creating build/lib.macosx-10.9-x86_64-3.8\n",
      "    creating build/lib.macosx-10.9-x86_64-3.8/wordcloud\n",
      "    copying wordcloud/wordcloud_cli.py -> build/lib.macosx-10.9-x86_64-3.8/wordcloud\n",
      "    copying wordcloud/_version.py -> build/lib.macosx-10.9-x86_64-3.8/wordcloud\n",
      "    copying wordcloud/__init__.py -> build/lib.macosx-10.9-x86_64-3.8/wordcloud\n",
      "    copying wordcloud/tokenization.py -> build/lib.macosx-10.9-x86_64-3.8/wordcloud\n",
      "    copying wordcloud/wordcloud.py -> build/lib.macosx-10.9-x86_64-3.8/wordcloud\n",
      "    copying wordcloud/color_from_image.py -> build/lib.macosx-10.9-x86_64-3.8/wordcloud\n",
      "    copying wordcloud/__main__.py -> build/lib.macosx-10.9-x86_64-3.8/wordcloud\n",
      "    copying wordcloud/stopwords -> build/lib.macosx-10.9-x86_64-3.8/wordcloud\n",
      "    copying wordcloud/DroidSansMono.ttf -> build/lib.macosx-10.9-x86_64-3.8/wordcloud\n",
      "    UPDATING build/lib.macosx-10.9-x86_64-3.8/wordcloud/_version.py\n",
      "    set build/lib.macosx-10.9-x86_64-3.8/wordcloud/_version.py to '1.8.1'\n",
      "    running build_ext\n",
      "    building 'wordcloud.query_integral_image' extension\n",
      "    creating build/temp.macosx-10.9-x86_64-3.8\n",
      "    creating build/temp.macosx-10.9-x86_64-3.8/wordcloud\n",
      "    x86_64-apple-darwin13.4.0-clang -fno-strict-aliasing -Wsign-compare -Wunreachable-code -DNDEBUG -fwrapv -O3 -Wall -Wstrict-prototypes -march=core2 -mtune=haswell -mssse3 -ftree-vectorize -fPIC -fPIE -fstack-protector-strong -O3 -pipe -fdebug-prefix-map=${SRC_DIR}=/usr/local/src/conda/${PKG_NAME}-${PKG_VERSION} -fdebug-prefix-map=/opt/anaconda3/envs/learn-env=/usr/local/src/conda-prefix -flto -Wl,-export_dynamic -march=core2 -mtune=haswell -mssse3 -ftree-vectorize -fPIC -fPIE -fstack-protector-strong -O3 -march=core2 -mtune=haswell -mssse3 -ftree-vectorize -fPIC -fPIE -fstack-protector-strong -O2 -pipe -isystem /opt/anaconda3/envs/learn-env/include -D_FORTIFY_SOURCE=2 -mmacosx-version-min=10.9 -isystem /opt/anaconda3/envs/learn-env/include -I/opt/anaconda3/envs/learn-env/include/python3.8 -c wordcloud/query_integral_image.c -o build/temp.macosx-10.9-x86_64-3.8/wordcloud/query_integral_image.o\n",
      "    clang-10: warning: -Wl,-export_dynamic: 'linker' input unused [-Wunused-command-line-argument]\n",
      "    wordcloud/query_integral_image.c:15710:3: warning: 'tp_print' is deprecated [-Wdeprecated-declarations]\n",
      "      0, /*tp_print*/\n",
      "      ^\n",
      "    /opt/anaconda3/envs/learn-env/include/python3.8/cpython/object.h:260:5: note: 'tp_print' has been explicitly marked deprecated here\n",
      "        Py_DEPRECATED(3.8) int (*tp_print)(PyObject *, FILE *, int);\n",
      "        ^\n",
      "    /opt/anaconda3/envs/learn-env/include/python3.8/pyport.h:515:54: note: expanded from macro 'Py_DEPRECATED'\n",
      "    #define Py_DEPRECATED(VERSION_UNUSED) __attribute__((__deprecated__))\n",
      "                                                         ^\n",
      "    wordcloud/query_integral_image.c:15829:3: warning: 'tp_print' is deprecated [-Wdeprecated-declarations]\n",
      "      0, /*tp_print*/\n",
      "      ^\n",
      "    /opt/anaconda3/envs/learn-env/include/python3.8/cpython/object.h:260:5: note: 'tp_print' has been explicitly marked deprecated here\n",
      "        Py_DEPRECATED(3.8) int (*tp_print)(PyObject *, FILE *, int);\n",
      "        ^\n",
      "    /opt/anaconda3/envs/learn-env/include/python3.8/pyport.h:515:54: note: expanded from macro 'Py_DEPRECATED'\n",
      "    #define Py_DEPRECATED(VERSION_UNUSED) __attribute__((__deprecated__))\n",
      "                                                         ^\n",
      "    wordcloud/query_integral_image.c:16090:3: warning: 'tp_print' is deprecated [-Wdeprecated-declarations]\n",
      "      0, /*tp_print*/\n",
      "      ^\n",
      "    /opt/anaconda3/envs/learn-env/include/python3.8/cpython/object.h:260:5: note: 'tp_print' has been explicitly marked deprecated here\n",
      "        Py_DEPRECATED(3.8) int (*tp_print)(PyObject *, FILE *, int);\n",
      "        ^\n",
      "    /opt/anaconda3/envs/learn-env/include/python3.8/pyport.h:515:54: note: expanded from macro 'Py_DEPRECATED'\n",
      "    #define Py_DEPRECATED(VERSION_UNUSED) __attribute__((__deprecated__))\n",
      "                                                         ^\n",
      "    wordcloud/query_integral_image.c:16236:3: warning: 'tp_print' is deprecated [-Wdeprecated-declarations]\n",
      "      0, /*tp_print*/\n",
      "      ^\n",
      "    /opt/anaconda3/envs/learn-env/include/python3.8/cpython/object.h:260:5: note: 'tp_print' has been explicitly marked deprecated here\n",
      "        Py_DEPRECATED(3.8) int (*tp_print)(PyObject *, FILE *, int);\n",
      "        ^\n",
      "    /opt/anaconda3/envs/learn-env/include/python3.8/pyport.h:515:54: note: expanded from macro 'Py_DEPRECATED'\n",
      "    #define Py_DEPRECATED(VERSION_UNUSED) __attribute__((__deprecated__))\n",
      "                                                         ^\n",
      "    4 warnings generated.\n",
      "    x86_64-apple-darwin13.4.0-clang -bundle -undefined dynamic_lookup -Wl,-pie -Wl,-headerpad_max_install_names -Wl,-dead_strip_dylibs -Wl,-rpath,/opt/anaconda3/envs/learn-env/lib -L/opt/anaconda3/envs/learn-env/lib -flto -Wl,-export_dynamic -Wl,-pie -Wl,-headerpad_max_install_names -Wl,-dead_strip_dylibs -Wl,-rpath,/opt/anaconda3/envs/learn-env/lib -L/opt/anaconda3/envs/learn-env/lib -Wl,-pie -Wl,-headerpad_max_install_names -Wl,-dead_strip_dylibs -Wl,-rpath,/opt/anaconda3/envs/learn-env/lib -L/opt/anaconda3/envs/learn-env/lib -march=core2 -mtune=haswell -mssse3 -ftree-vectorize -fPIC -fPIE -fstack-protector-strong -O2 -pipe -isystem /opt/anaconda3/envs/learn-env/include -D_FORTIFY_SOURCE=2 -mmacosx-version-min=10.9 -isystem /opt/anaconda3/envs/learn-env/include -arch x86_64 build/temp.macosx-10.9-x86_64-3.8/wordcloud/query_integral_image.o -o build/lib.macosx-10.9-x86_64-3.8/wordcloud/query_integral_image.cpython-38-darwin.so\n",
      "    ld: warning: -pie being ignored. It is only used when linking a main executable\n",
      "    ld: unsupported tapi file type '!tapi-tbd' in YAML file '/Library/Developer/CommandLineTools/SDKs/MacOSX.sdk/usr/lib/libSystem.tbd' for architecture x86_64\n",
      "    clang-10: error: linker command failed with exit code 1 (use -v to see invocation)\n",
      "    error: command 'x86_64-apple-darwin13.4.0-clang' failed with exit status 1\n",
      "    ----------------------------------------\u001b[0m\n",
      "\u001b[31mERROR: Command errored out with exit status 1: /opt/anaconda3/envs/learn-env/bin/python3.8 -u -c 'import sys, setuptools, tokenize; sys.argv[0] = '\"'\"'/private/var/folders/wb/ttw_y56d5njf1jjf40nd748m0000gn/T/pip-install-ll8ett7f/wordcloud/setup.py'\"'\"'; __file__='\"'\"'/private/var/folders/wb/ttw_y56d5njf1jjf40nd748m0000gn/T/pip-install-ll8ett7f/wordcloud/setup.py'\"'\"';f=getattr(tokenize, '\"'\"'open'\"'\"', open)(__file__);code=f.read().replace('\"'\"'\\r\\n'\"'\"', '\"'\"'\\n'\"'\"');f.close();exec(compile(code, __file__, '\"'\"'exec'\"'\"'))' install --record /private/var/folders/wb/ttw_y56d5njf1jjf40nd748m0000gn/T/pip-record-uatos1wq/install-record.txt --single-version-externally-managed --compile --install-headers /opt/anaconda3/envs/learn-env/include/python3.8/wordcloud Check the logs for full command output.\u001b[0m\n",
      "\u001b[?25h"
     ]
    }
   ],
   "source": [
    "! pip install wordcloud"
   ]
  },
  {
   "cell_type": "code",
   "execution_count": 2,
   "metadata": {},
   "outputs": [],
   "source": [
    "df = pd.read_csv('data/data.csv', encoding = 'unicode_escape')"
   ]
  },
  {
   "cell_type": "code",
   "execution_count": 3,
   "metadata": {},
   "outputs": [],
   "source": [
    "df.rename(columns={'tweet_text':'Tweet','emotion_in_tweet_is_directed_at':'Product',\n",
    "                   'is_there_an_emotion_directed_at_a_brand_or_product':'Sentiment'}, inplace=True)"
   ]
  },
  {
   "cell_type": "code",
   "execution_count": 6,
   "metadata": {},
   "outputs": [],
   "source": [
    "df.dropna(subset=['Tweet'],inplace=True)\n",
    "df.drop_duplicates(inplace=True)\n",
    "df['Product'].fillna('Unknown',inplace=True)"
   ]
  },
  {
   "cell_type": "code",
   "execution_count": 21,
   "metadata": {},
   "outputs": [],
   "source": [
    "sentiment_list=[]\n",
    "for i in df['Sentiment']:\n",
    "    if (i==\"No emotion toward brand or product\")|(i==\"I can't tell\"):\n",
    "        sentiment_list.append('Neutral')\n",
    "    elif i=='Positive emotion':\n",
    "        sentiment_list.append('Positive')\n",
    "    elif i=='Negative emotion':\n",
    "        sentiment_list.append('Negative')\n",
    "df['Sentiment']=sentiment_list"
   ]
  },
  {
   "cell_type": "code",
   "execution_count": 22,
   "metadata": {
    "scrolled": true
   },
   "outputs": [
    {
     "data": {
      "text/plain": [
       "Neutral     5531\n",
       "Positive    2970\n",
       "Negative     569\n",
       "Name: Sentiment, dtype: int64"
      ]
     },
     "execution_count": 22,
     "metadata": {},
     "output_type": "execute_result"
    }
   ],
   "source": [
    "df['Sentiment'].value_counts()"
   ]
  },
  {
   "cell_type": "code",
   "execution_count": 9,
   "metadata": {
    "scrolled": true
   },
   "outputs": [
    {
     "data": {
      "text/plain": [
       "Unknown                            5788\n",
       "iPad                                945\n",
       "Apple                               659\n",
       "iPad or iPhone App                  469\n",
       "Google                              428\n",
       "iPhone                              296\n",
       "Other Google product or service     293\n",
       "Android App                          80\n",
       "Android                              77\n",
       "Other Apple product or service       35\n",
       "Name: Product, dtype: int64"
      ]
     },
     "execution_count": 9,
     "metadata": {},
     "output_type": "execute_result"
    }
   ],
   "source": [
    "df['Product'].value_counts()"
   ]
  },
  {
   "cell_type": "code",
   "execution_count": 32,
   "metadata": {},
   "outputs": [
    {
     "data": {
      "text/plain": [
       "Apple      5341\n",
       "Google     2789\n",
       "Unknown     759\n",
       "Both        181\n",
       "Name: Brand, dtype: int64"
      ]
     },
     "execution_count": 32,
     "metadata": {},
     "output_type": "execute_result"
    }
   ],
   "source": [
    "google_values = 'google','android'\n",
    "apple_values = 'apple','iphone','ipad'\n",
    "def brand_classification(Product, Tweet):\n",
    "    brand='Unknown'\n",
    "    if (Product.lower().__contains__('google'))|(Product.lower().__contains__('android')):\n",
    "        brand = 'Google'\n",
    "    elif (Product.lower().__contains__('apple'))|(Product.lower().__contains__('iphone'))|(Product.lower().__contains__('ipad')):\n",
    "        brand = 'Apple'\n",
    "    if (brand == 'Unknown'):\n",
    "        lowercase_tweet = Tweet.lower()\n",
    "        google = (lowercase_tweet.__contains__('google'))|(lowercase_tweet.__contains__('android'))\n",
    "        apple = (lowercase_tweet.__contains__('iphone'))|(lowercase_tweet.__contains__('ipad'))|(lowercase_tweet.__contains__('apple'))\n",
    "        if (google & apple):\n",
    "            brand = 'Both'\n",
    "        elif apple:\n",
    "            brand = 'Apple'\n",
    "        elif google:\n",
    "            brand = 'Google'\n",
    "    return brand\n",
    "                \n",
    "df['Brand'] = df.apply(lambda row: brand_classification(row['Product'], row['Tweet']), axis=1)\n",
    "df['Brand'].value_counts()"
   ]
  },
  {
   "cell_type": "code",
   "execution_count": 33,
   "metadata": {
    "scrolled": true
   },
   "outputs": [
    {
     "data": {
      "text/html": [
       "<div>\n",
       "<style scoped>\n",
       "    .dataframe tbody tr th:only-of-type {\n",
       "        vertical-align: middle;\n",
       "    }\n",
       "\n",
       "    .dataframe tbody tr th {\n",
       "        vertical-align: top;\n",
       "    }\n",
       "\n",
       "    .dataframe thead th {\n",
       "        text-align: right;\n",
       "    }\n",
       "</style>\n",
       "<table border=\"1\" class=\"dataframe\">\n",
       "  <thead>\n",
       "    <tr style=\"text-align: right;\">\n",
       "      <th></th>\n",
       "      <th>Tweet</th>\n",
       "      <th>Product</th>\n",
       "      <th>Sentiment</th>\n",
       "      <th>Brand</th>\n",
       "    </tr>\n",
       "  </thead>\n",
       "  <tbody>\n",
       "    <tr>\n",
       "      <th>0</th>\n",
       "      <td>.@wesley83 I have a 3G iPhone. After 3 hrs twe...</td>\n",
       "      <td>iPhone</td>\n",
       "      <td>Negative</td>\n",
       "      <td>Apple</td>\n",
       "    </tr>\n",
       "    <tr>\n",
       "      <th>1</th>\n",
       "      <td>@jessedee Know about @fludapp ? Awesome iPad/i...</td>\n",
       "      <td>iPad or iPhone App</td>\n",
       "      <td>Positive</td>\n",
       "      <td>Apple</td>\n",
       "    </tr>\n",
       "    <tr>\n",
       "      <th>2</th>\n",
       "      <td>@swonderlin Can not wait for #iPad 2 also. The...</td>\n",
       "      <td>iPad</td>\n",
       "      <td>Positive</td>\n",
       "      <td>Apple</td>\n",
       "    </tr>\n",
       "    <tr>\n",
       "      <th>3</th>\n",
       "      <td>@sxsw I hope this year's festival isn't as cra...</td>\n",
       "      <td>iPad or iPhone App</td>\n",
       "      <td>Negative</td>\n",
       "      <td>Apple</td>\n",
       "    </tr>\n",
       "    <tr>\n",
       "      <th>4</th>\n",
       "      <td>@sxtxstate great stuff on Fri #SXSW: Marissa M...</td>\n",
       "      <td>Google</td>\n",
       "      <td>Positive</td>\n",
       "      <td>Google</td>\n",
       "    </tr>\n",
       "  </tbody>\n",
       "</table>\n",
       "</div>"
      ],
      "text/plain": [
       "                                               Tweet             Product  \\\n",
       "0  .@wesley83 I have a 3G iPhone. After 3 hrs twe...              iPhone   \n",
       "1  @jessedee Know about @fludapp ? Awesome iPad/i...  iPad or iPhone App   \n",
       "2  @swonderlin Can not wait for #iPad 2 also. The...                iPad   \n",
       "3  @sxsw I hope this year's festival isn't as cra...  iPad or iPhone App   \n",
       "4  @sxtxstate great stuff on Fri #SXSW: Marissa M...              Google   \n",
       "\n",
       "  Sentiment   Brand  \n",
       "0  Negative   Apple  \n",
       "1  Positive   Apple  \n",
       "2  Positive   Apple  \n",
       "3  Negative   Apple  \n",
       "4  Positive  Google  "
      ]
     },
     "execution_count": 33,
     "metadata": {},
     "output_type": "execute_result"
    }
   ],
   "source": [
    "df.head()\n"
   ]
  },
  {
   "cell_type": "code",
   "execution_count": 37,
   "metadata": {},
   "outputs": [
    {
     "name": "stdout",
     "output_type": "stream",
     "text": [
      "<class 'pandas.core.frame.DataFrame'>\n",
      "Int64Index: 9070 entries, 0 to 9092\n",
      "Data columns (total 4 columns):\n",
      " #   Column     Non-Null Count  Dtype \n",
      "---  ------     --------------  ----- \n",
      " 0   Tweet      9070 non-null   object\n",
      " 1   Product    9070 non-null   object\n",
      " 2   Sentiment  9070 non-null   object\n",
      " 3   Brand      9070 non-null   object\n",
      "dtypes: object(4)\n",
      "memory usage: 674.3+ KB\n"
     ]
    }
   ],
   "source": [
    "df.info()"
   ]
  },
  {
   "cell_type": "code",
   "execution_count": 2,
   "metadata": {},
   "outputs": [
    {
     "ename": "NameError",
     "evalue": "name 'tokenizer' is not defined",
     "output_type": "error",
     "traceback": [
      "\u001b[0;31m---------------------------------------------------------------------------\u001b[0m",
      "\u001b[0;31mNameError\u001b[0m                                 Traceback (most recent call last)",
      "\u001b[0;32m<ipython-input-2-5dcc7caee115>\u001b[0m in \u001b[0;36m<module>\u001b[0;34m\u001b[0m\n\u001b[1;32m     20\u001b[0m     \u001b[0;32mreturn\u001b[0m \u001b[0mfinal_text\u001b[0m\u001b[0;34m\u001b[0m\u001b[0;34m\u001b[0m\u001b[0m\n\u001b[1;32m     21\u001b[0m \u001b[0;34m\u001b[0m\u001b[0m\n\u001b[0;32m---> 22\u001b[0;31m \u001b[0mpreprocess_text\u001b[0m\u001b[0;34m(\u001b[0m\u001b[0;34m\"This is an example sentence for preprocessing.\"\u001b[0m\u001b[0;34m,\u001b[0m \u001b[0mtokenizer\u001b[0m\u001b[0;34m,\u001b[0m \u001b[0mstopwords_list\u001b[0m\u001b[0;34m,\u001b[0m \u001b[0mstemmer\u001b[0m\u001b[0;34m)\u001b[0m\u001b[0;34m\u001b[0m\u001b[0;34m\u001b[0m\u001b[0m\n\u001b[0m",
      "\u001b[0;31mNameError\u001b[0m: name 'tokenizer' is not defined"
     ]
    }
   ],
   "source": [
    "def preprocess_text(text, tokenizer, stopwords_list, stemmer):\n",
    "    # Standardize case (lowercase the text)\n",
    "    # your code here\n",
    "    text = text.lower()\n",
    "    \n",
    "    # Tokenize text using `tokenizer`\n",
    "    # your code here\n",
    "    text_tokens = tokenizer.tokenize(text)\n",
    "    \n",
    "    # Remove stopwords using `stopwords_list`\n",
    "    # your code here\n",
    "    text_tokens_stopped = [word for word in text_tokens if word not in stopwords_list]\n",
    "    \n",
    "    # Stem the tokenized text using `stemmer`\n",
    "    # your code here\n",
    "    final_text = [stemmer.stem(token) for token in text_tokens_stopped]\n",
    "    \n",
    "    # Return the preprocessed text\n",
    "    # your code here\n",
    "    return final_text\n",
    "    \n",
    "preprocess_text(\"This is an example sentence for preprocessing.\", tokenizer, stopwords_list, stemmer)"
   ]
  },
  {
   "cell_type": "code",
   "execution_count": 1,
   "metadata": {},
   "outputs": [],
   "source": [
    "def tweet_cleaner(tweet):\n",
    "    twtr_stopwords = ['rt','rts','retweet','quot','sxsw', 'amp']\n",
    "    punctuation = set(string.punctuation)\n",
    "    punctuation.remove('#')\n",
    "    \n",
    "    x=tweet\n",
    "    x=re.sub(r'https?:\\/\\/\\S+', '', x) #remove URLs\n",
    "    x=re.sub(r'{link}', '', x) #placeholders\n",
    "    x=re.sub(r'@[\\w]*', '', x) #@mention users\n",
    "    x=re.sub('[^A-Za-z0-9]+', ' ', x) #@mention users\n",
    "    x=re.sub(r'\\b[0-9]+\\b', '', x) #remove stand-alone numbers\n",
    "    x=re.sub(r'&[a-z]+;', '', x) #remove HTML ref chars\n",
    "    x=re.sub(r'\\d+', '', x) #removes all NUMERALS\n",
    "    x=''.join(ch for ch in x if ch not in punctuation) #remove punctuation\n",
    "    x=x.replace(\"[^a-zA-z]\", \" \") #remove special chars\n",
    "    \n",
    "    x=[word.lower() for word in x.split() if word.lower() not in twtr_stopwords]\n",
    "    x=[w for w in x if len(w)>2]\n",
    "    \n",
    "    return ' '.join(x)\n",
    "    "
   ]
  },
  {
   "cell_type": "code",
   "execution_count": 177,
   "metadata": {},
   "outputs": [],
   "source": [
    "# first_tweet = df['Tweet'][1]\n",
    "# print(first_tweet)\n",
    "# tweet_cleaner(first_tweet)"
   ]
  },
  {
   "cell_type": "code",
   "execution_count": 178,
   "metadata": {},
   "outputs": [],
   "source": [
    "df['Cleaned_Tweet'] = df['Tweet'].map(lambda x: tweet_cleaner(x))"
   ]
  },
  {
   "cell_type": "code",
   "execution_count": 179,
   "metadata": {},
   "outputs": [
    {
     "data": {
      "text/plain": [
       "0       have iphone after hrs tweeting rise austin was dead need upgrade plugin stations                                             \n",
       "1       know about awesome ipad iphone app that you likely appreciate for its design also they giving free                           \n",
       "2       can not wait for ipad also they should sale them down                                                                        \n",
       "3       hope this year festival isn crashy this year iphone app                                                                      \n",
       "4       great stuff fri marissa mayer google tim reilly tech books conferences matt mullenweg wordpress                              \n",
       "                                                     ...                                                                             \n",
       "9088    ipad everywhere                                                                                                              \n",
       "9089    wave buzz interrupt your regularly scheduled geek programming with big news google circles                                   \n",
       "9090    google zeiger physician never reported potential yet fda relies physicians operating out data healthdev                      \n",
       "9091    some verizon iphone customers complained their time fell back hour this weekend course they were the new yorkers who attended\n",
       "9092    google tests check offers                                                                                                    \n",
       "Name: Cleaned_Tweet, Length: 9070, dtype: object"
      ]
     },
     "execution_count": 179,
     "metadata": {},
     "output_type": "execute_result"
    }
   ],
   "source": [
    "df['Cleaned_Tweet']"
   ]
  },
  {
   "cell_type": "code",
   "execution_count": 180,
   "metadata": {
    "scrolled": false
   },
   "outputs": [
    {
     "data": {
      "text/html": [
       "<div>\n",
       "<style scoped>\n",
       "    .dataframe tbody tr th:only-of-type {\n",
       "        vertical-align: middle;\n",
       "    }\n",
       "\n",
       "    .dataframe tbody tr th {\n",
       "        vertical-align: top;\n",
       "    }\n",
       "\n",
       "    .dataframe thead th {\n",
       "        text-align: right;\n",
       "    }\n",
       "</style>\n",
       "<table border=\"1\" class=\"dataframe\">\n",
       "  <thead>\n",
       "    <tr style=\"text-align: right;\">\n",
       "      <th></th>\n",
       "      <th>Tweet</th>\n",
       "      <th>Product</th>\n",
       "      <th>Sentiment</th>\n",
       "      <th>Brand</th>\n",
       "      <th>Cleaned_Tweet</th>\n",
       "      <th>Preprocessed_Text</th>\n",
       "    </tr>\n",
       "  </thead>\n",
       "  <tbody>\n",
       "    <tr>\n",
       "      <th>0</th>\n",
       "      <td>.@wesley83 I have a 3G iPhone. After 3 hrs tweeting at #RISE_Austin, it was dead!  I need to upgrade. Plugin stations at #SXSW.</td>\n",
       "      <td>iPhone</td>\n",
       "      <td>Negative</td>\n",
       "      <td>Apple</td>\n",
       "      <td>have iphone after hrs tweeting rise austin was dead need upgrade plugin stations</td>\n",
       "      <td>[iphon, hr, tweet, rise, austin, dead, need, upgrad, plugin, station]</td>\n",
       "    </tr>\n",
       "    <tr>\n",
       "      <th>1</th>\n",
       "      <td>@jessedee Know about @fludapp ? Awesome iPad/iPhone app that you'll likely appreciate for its design. Also, they're giving free Ts at #SXSW</td>\n",
       "      <td>iPad or iPhone App</td>\n",
       "      <td>Positive</td>\n",
       "      <td>Apple</td>\n",
       "      <td>know about awesome ipad iphone app that you likely appreciate for its design also they giving free</td>\n",
       "      <td>[know, awesom, ipad, iphon, app, like, appreci, design, also, give, free]</td>\n",
       "    </tr>\n",
       "    <tr>\n",
       "      <th>2</th>\n",
       "      <td>@swonderlin Can not wait for #iPad 2 also. They should sale them down at #SXSW.</td>\n",
       "      <td>iPad</td>\n",
       "      <td>Positive</td>\n",
       "      <td>Apple</td>\n",
       "      <td>can not wait for ipad also they should sale them down</td>\n",
       "      <td>[wait, ipad, also, sale]</td>\n",
       "    </tr>\n",
       "    <tr>\n",
       "      <th>3</th>\n",
       "      <td>@sxsw I hope this year's festival isn't as crashy as this year's iPhone app. #sxsw</td>\n",
       "      <td>iPad or iPhone App</td>\n",
       "      <td>Negative</td>\n",
       "      <td>Apple</td>\n",
       "      <td>hope this year festival isn crashy this year iphone app</td>\n",
       "      <td>[hope, year, festiv, crashi, year, iphon, app]</td>\n",
       "    </tr>\n",
       "    <tr>\n",
       "      <th>4</th>\n",
       "      <td>@sxtxstate great stuff on Fri #SXSW: Marissa Mayer (Google), Tim O'Reilly (tech books/conferences) &amp;amp; Matt Mullenweg (Wordpress)</td>\n",
       "      <td>Google</td>\n",
       "      <td>Positive</td>\n",
       "      <td>Google</td>\n",
       "      <td>great stuff fri marissa mayer google tim reilly tech books conferences matt mullenweg wordpress</td>\n",
       "      <td>[great, stuff, fri, marissa, mayer, googl, tim, reilli, tech, book, confer, amp, matt, mullenweg, wordpress]</td>\n",
       "    </tr>\n",
       "  </tbody>\n",
       "</table>\n",
       "</div>"
      ],
      "text/plain": [
       "                                                                                                                                         Tweet  \\\n",
       "0  .@wesley83 I have a 3G iPhone. After 3 hrs tweeting at #RISE_Austin, it was dead!  I need to upgrade. Plugin stations at #SXSW.               \n",
       "1  @jessedee Know about @fludapp ? Awesome iPad/iPhone app that you'll likely appreciate for its design. Also, they're giving free Ts at #SXSW   \n",
       "2  @swonderlin Can not wait for #iPad 2 also. They should sale them down at #SXSW.                                                               \n",
       "3  @sxsw I hope this year's festival isn't as crashy as this year's iPhone app. #sxsw                                                            \n",
       "4  @sxtxstate great stuff on Fri #SXSW: Marissa Mayer (Google), Tim O'Reilly (tech books/conferences) &amp; Matt Mullenweg (Wordpress)           \n",
       "\n",
       "              Product Sentiment   Brand  \\\n",
       "0  iPhone              Negative  Apple    \n",
       "1  iPad or iPhone App  Positive  Apple    \n",
       "2  iPad                Positive  Apple    \n",
       "3  iPad or iPhone App  Negative  Apple    \n",
       "4  Google              Positive  Google   \n",
       "\n",
       "                                                                                        Cleaned_Tweet  \\\n",
       "0  have iphone after hrs tweeting rise austin was dead need upgrade plugin stations                     \n",
       "1  know about awesome ipad iphone app that you likely appreciate for its design also they giving free   \n",
       "2  can not wait for ipad also they should sale them down                                                \n",
       "3  hope this year festival isn crashy this year iphone app                                              \n",
       "4  great stuff fri marissa mayer google tim reilly tech books conferences matt mullenweg wordpress      \n",
       "\n",
       "                                                                                              Preprocessed_Text  \n",
       "0  [iphon, hr, tweet, rise, austin, dead, need, upgrad, plugin, station]                                         \n",
       "1  [know, awesom, ipad, iphon, app, like, appreci, design, also, give, free]                                     \n",
       "2  [wait, ipad, also, sale]                                                                                      \n",
       "3  [hope, year, festiv, crashi, year, iphon, app]                                                                \n",
       "4  [great, stuff, fri, marissa, mayer, googl, tim, reilli, tech, book, confer, amp, matt, mullenweg, wordpress]  "
      ]
     },
     "execution_count": 180,
     "metadata": {},
     "output_type": "execute_result"
    }
   ],
   "source": [
    "df.head()"
   ]
  },
  {
   "cell_type": "code",
   "execution_count": 181,
   "metadata": {},
   "outputs": [],
   "source": [
    "stopwords_list = stopwords.words('english')\n",
    "pattern = r\"(?u)\\w{3,}\"\n",
    "tokenizer = RegexpTokenizer(pattern)\n",
    "stemmer = PorterStemmer()"
   ]
  },
  {
   "cell_type": "code",
   "execution_count": 182,
   "metadata": {},
   "outputs": [],
   "source": [
    "def preprocess_text(text, tokenizer, stopwords_list, stemmer):\n",
    "    text_tokens = tokenizer.tokenize(text)\n",
    "\n",
    "    text_tokens_stopped = [word for word in text_tokens if word not in stopwords_list]\n",
    "    \n",
    "    final_text = [stemmer.stem(token) for token in text_tokens_stopped]\n",
    "    \n",
    "    return final_text"
   ]
  },
  {
   "cell_type": "code",
   "execution_count": 183,
   "metadata": {},
   "outputs": [],
   "source": [
    "text_data = df.Cleaned_Tweet.apply(lambda x: preprocess_text(x, tokenizer, stopwords_list, stemmer))"
   ]
  },
  {
   "cell_type": "code",
   "execution_count": 184,
   "metadata": {
    "scrolled": true
   },
   "outputs": [
    {
     "data": {
      "text/html": [
       "<div>\n",
       "<style scoped>\n",
       "    .dataframe tbody tr th:only-of-type {\n",
       "        vertical-align: middle;\n",
       "    }\n",
       "\n",
       "    .dataframe tbody tr th {\n",
       "        vertical-align: top;\n",
       "    }\n",
       "\n",
       "    .dataframe thead th {\n",
       "        text-align: right;\n",
       "    }\n",
       "</style>\n",
       "<table border=\"1\" class=\"dataframe\">\n",
       "  <thead>\n",
       "    <tr style=\"text-align: right;\">\n",
       "      <th></th>\n",
       "      <th>Tweet</th>\n",
       "      <th>Product</th>\n",
       "      <th>Sentiment</th>\n",
       "      <th>Brand</th>\n",
       "      <th>Cleaned_Tweet</th>\n",
       "      <th>Preprocessed_Text</th>\n",
       "    </tr>\n",
       "  </thead>\n",
       "  <tbody>\n",
       "    <tr>\n",
       "      <th>0</th>\n",
       "      <td>.@wesley83 I have a 3G iPhone. After 3 hrs tweeting at #RISE_Austin, it was dead!  I need to upgrade. Plugin stations at #SXSW.</td>\n",
       "      <td>iPhone</td>\n",
       "      <td>Negative</td>\n",
       "      <td>Apple</td>\n",
       "      <td>have iphone after hrs tweeting rise austin was dead need upgrade plugin stations</td>\n",
       "      <td>[iphon, hr, tweet, rise, austin, dead, need, upgrad, plugin, station]</td>\n",
       "    </tr>\n",
       "    <tr>\n",
       "      <th>1</th>\n",
       "      <td>@jessedee Know about @fludapp ? Awesome iPad/iPhone app that you'll likely appreciate for its design. Also, they're giving free Ts at #SXSW</td>\n",
       "      <td>iPad or iPhone App</td>\n",
       "      <td>Positive</td>\n",
       "      <td>Apple</td>\n",
       "      <td>know about awesome ipad iphone app that you likely appreciate for its design also they giving free</td>\n",
       "      <td>[know, awesom, ipad, iphon, app, like, appreci, design, also, give, free]</td>\n",
       "    </tr>\n",
       "    <tr>\n",
       "      <th>2</th>\n",
       "      <td>@swonderlin Can not wait for #iPad 2 also. They should sale them down at #SXSW.</td>\n",
       "      <td>iPad</td>\n",
       "      <td>Positive</td>\n",
       "      <td>Apple</td>\n",
       "      <td>can not wait for ipad also they should sale them down</td>\n",
       "      <td>[wait, ipad, also, sale]</td>\n",
       "    </tr>\n",
       "    <tr>\n",
       "      <th>3</th>\n",
       "      <td>@sxsw I hope this year's festival isn't as crashy as this year's iPhone app. #sxsw</td>\n",
       "      <td>iPad or iPhone App</td>\n",
       "      <td>Negative</td>\n",
       "      <td>Apple</td>\n",
       "      <td>hope this year festival isn crashy this year iphone app</td>\n",
       "      <td>[hope, year, festiv, crashi, year, iphon, app]</td>\n",
       "    </tr>\n",
       "    <tr>\n",
       "      <th>4</th>\n",
       "      <td>@sxtxstate great stuff on Fri #SXSW: Marissa Mayer (Google), Tim O'Reilly (tech books/conferences) &amp;amp; Matt Mullenweg (Wordpress)</td>\n",
       "      <td>Google</td>\n",
       "      <td>Positive</td>\n",
       "      <td>Google</td>\n",
       "      <td>great stuff fri marissa mayer google tim reilly tech books conferences matt mullenweg wordpress</td>\n",
       "      <td>[great, stuff, fri, marissa, mayer, googl, tim, reilli, tech, book, confer, matt, mullenweg, wordpress]</td>\n",
       "    </tr>\n",
       "  </tbody>\n",
       "</table>\n",
       "</div>"
      ],
      "text/plain": [
       "                                                                                                                                         Tweet  \\\n",
       "0  .@wesley83 I have a 3G iPhone. After 3 hrs tweeting at #RISE_Austin, it was dead!  I need to upgrade. Plugin stations at #SXSW.               \n",
       "1  @jessedee Know about @fludapp ? Awesome iPad/iPhone app that you'll likely appreciate for its design. Also, they're giving free Ts at #SXSW   \n",
       "2  @swonderlin Can not wait for #iPad 2 also. They should sale them down at #SXSW.                                                               \n",
       "3  @sxsw I hope this year's festival isn't as crashy as this year's iPhone app. #sxsw                                                            \n",
       "4  @sxtxstate great stuff on Fri #SXSW: Marissa Mayer (Google), Tim O'Reilly (tech books/conferences) &amp; Matt Mullenweg (Wordpress)           \n",
       "\n",
       "              Product Sentiment   Brand  \\\n",
       "0  iPhone              Negative  Apple    \n",
       "1  iPad or iPhone App  Positive  Apple    \n",
       "2  iPad                Positive  Apple    \n",
       "3  iPad or iPhone App  Negative  Apple    \n",
       "4  Google              Positive  Google   \n",
       "\n",
       "                                                                                        Cleaned_Tweet  \\\n",
       "0  have iphone after hrs tweeting rise austin was dead need upgrade plugin stations                     \n",
       "1  know about awesome ipad iphone app that you likely appreciate for its design also they giving free   \n",
       "2  can not wait for ipad also they should sale them down                                                \n",
       "3  hope this year festival isn crashy this year iphone app                                              \n",
       "4  great stuff fri marissa mayer google tim reilly tech books conferences matt mullenweg wordpress      \n",
       "\n",
       "                                                                                         Preprocessed_Text  \n",
       "0  [iphon, hr, tweet, rise, austin, dead, need, upgrad, plugin, station]                                    \n",
       "1  [know, awesom, ipad, iphon, app, like, appreci, design, also, give, free]                                \n",
       "2  [wait, ipad, also, sale]                                                                                 \n",
       "3  [hope, year, festiv, crashi, year, iphon, app]                                                           \n",
       "4  [great, stuff, fri, marissa, mayer, googl, tim, reilli, tech, book, confer, matt, mullenweg, wordpress]  "
      ]
     },
     "execution_count": 184,
     "metadata": {},
     "output_type": "execute_result"
    }
   ],
   "source": [
    "df[\"Preprocessed_Text\"] = text_data\n",
    "df.head()"
   ]
  },
  {
   "cell_type": "code",
   "execution_count": 185,
   "metadata": {
    "scrolled": true
   },
   "outputs": [
    {
     "data": {
      "image/png": "[encoded data removed]",
      "text/plain": [
       "<Figure size 576x576 with 4 Axes>"
      ]
     },
     "metadata": {
      "needs_background": "light"
     },
     "output_type": "display_data"
    }
   ],
   "source": [
    "# Run this cell without changes\n",
    "import matplotlib.pyplot as plt\n",
    "import seaborn as sns\n",
    "\n",
    "# Set up figure and axes\n",
    "fig, axes = plt.subplots(nrows=4, figsize=(8, 8))\n",
    "\n",
    "# Empty dict to hold words that have already been plotted and their colors\n",
    "plotted_words_and_colors = {}\n",
    "# Establish color palette to pull from\n",
    "# (If you get an error message about popping from an empty list, increase this #)\n",
    "color_palette = sns.color_palette('cividis', n_colors=38)\n",
    "\n",
    "# Creating a plot for each unique genre\n",
    "data_by_brand = [y for _, y in df.groupby('Brand', as_index=False)]\n",
    "for idx, brand_df in enumerate(data_by_brand):\n",
    "    # Find top 10 words in this genre\n",
    "    all_words_in_genre = brand_df.Preprocessed_Text.explode()\n",
    "    top_10 = all_words_in_genre.value_counts()[:10]\n",
    "    \n",
    "    # Select appropriate colors, reusing colors if words repeat\n",
    "    colors = []\n",
    "    for word in top_10.index:\n",
    "        if word not in plotted_words_and_colors:\n",
    "            new_color = color_palette.pop(0)\n",
    "            plotted_words_and_colors[word] = new_color\n",
    "        colors.append(plotted_words_and_colors[word])\n",
    "    \n",
    "    # Select axes, plot data, set title\n",
    "    ax = axes[idx]\n",
    "    ax.bar(top_10.index, top_10.values, color=colors)\n",
    "    ax.set_title(brand_df.iloc[0].Brand.title())\n",
    "    \n",
    "fig.tight_layout()"
   ]
  },
  {
   "cell_type": "code",
   "execution_count": null,
   "metadata": {},
   "outputs": [],
   "source": []
  },
  {
   "cell_type": "code",
   "execution_count": 186,
   "metadata": {},
   "outputs": [
    {
     "data": {
      "text/html": [
       "<div>\n",
       "<style scoped>\n",
       "    .dataframe tbody tr th:only-of-type {\n",
       "        vertical-align: middle;\n",
       "    }\n",
       "\n",
       "    .dataframe tbody tr th {\n",
       "        vertical-align: top;\n",
       "    }\n",
       "\n",
       "    .dataframe thead th {\n",
       "        text-align: right;\n",
       "    }\n",
       "</style>\n",
       "<table border=\"1\" class=\"dataframe\">\n",
       "  <thead>\n",
       "    <tr style=\"text-align: right;\">\n",
       "      <th></th>\n",
       "      <th>Tweet</th>\n",
       "      <th>Product</th>\n",
       "      <th>Sentiment</th>\n",
       "      <th>Brand</th>\n",
       "      <th>Cleaned_Tweet</th>\n",
       "      <th>Preprocessed_Text</th>\n",
       "    </tr>\n",
       "  </thead>\n",
       "  <tbody>\n",
       "    <tr>\n",
       "      <th>0</th>\n",
       "      <td>.@wesley83 I have a 3G iPhone. After 3 hrs tweeting at #RISE_Austin, it was dead!  I need to upgrade. Plugin stations at #SXSW.</td>\n",
       "      <td>iPhone</td>\n",
       "      <td>Negative</td>\n",
       "      <td>Apple</td>\n",
       "      <td>have iphone after hrs tweeting rise austin was dead need upgrade plugin stations</td>\n",
       "      <td>[iphon, hr, tweet, rise, austin, dead, need, upgrad, plugin, station]</td>\n",
       "    </tr>\n",
       "    <tr>\n",
       "      <th>1</th>\n",
       "      <td>@jessedee Know about @fludapp ? Awesome iPad/iPhone app that you'll likely appreciate for its design. Also, they're giving free Ts at #SXSW</td>\n",
       "      <td>iPad or iPhone App</td>\n",
       "      <td>Positive</td>\n",
       "      <td>Apple</td>\n",
       "      <td>know about awesome ipad iphone app that you likely appreciate for its design also they giving free</td>\n",
       "      <td>[know, awesom, ipad, iphon, app, like, appreci, design, also, give, free]</td>\n",
       "    </tr>\n",
       "    <tr>\n",
       "      <th>2</th>\n",
       "      <td>@swonderlin Can not wait for #iPad 2 also. They should sale them down at #SXSW.</td>\n",
       "      <td>iPad</td>\n",
       "      <td>Positive</td>\n",
       "      <td>Apple</td>\n",
       "      <td>can not wait for ipad also they should sale them down</td>\n",
       "      <td>[wait, ipad, also, sale]</td>\n",
       "    </tr>\n",
       "    <tr>\n",
       "      <th>3</th>\n",
       "      <td>@sxsw I hope this year's festival isn't as crashy as this year's iPhone app. #sxsw</td>\n",
       "      <td>iPad or iPhone App</td>\n",
       "      <td>Negative</td>\n",
       "      <td>Apple</td>\n",
       "      <td>hope this year festival isn crashy this year iphone app</td>\n",
       "      <td>[hope, year, festiv, crashi, year, iphon, app]</td>\n",
       "    </tr>\n",
       "    <tr>\n",
       "      <th>4</th>\n",
       "      <td>@sxtxstate great stuff on Fri #SXSW: Marissa Mayer (Google), Tim O'Reilly (tech books/conferences) &amp;amp; Matt Mullenweg (Wordpress)</td>\n",
       "      <td>Google</td>\n",
       "      <td>Positive</td>\n",
       "      <td>Google</td>\n",
       "      <td>great stuff fri marissa mayer google tim reilly tech books conferences matt mullenweg wordpress</td>\n",
       "      <td>[great, stuff, fri, marissa, mayer, googl, tim, reilli, tech, book, confer, matt, mullenweg, wordpress]</td>\n",
       "    </tr>\n",
       "  </tbody>\n",
       "</table>\n",
       "</div>"
      ],
      "text/plain": [
       "                                                                                                                                         Tweet  \\\n",
       "0  .@wesley83 I have a 3G iPhone. After 3 hrs tweeting at #RISE_Austin, it was dead!  I need to upgrade. Plugin stations at #SXSW.               \n",
       "1  @jessedee Know about @fludapp ? Awesome iPad/iPhone app that you'll likely appreciate for its design. Also, they're giving free Ts at #SXSW   \n",
       "2  @swonderlin Can not wait for #iPad 2 also. They should sale them down at #SXSW.                                                               \n",
       "3  @sxsw I hope this year's festival isn't as crashy as this year's iPhone app. #sxsw                                                            \n",
       "4  @sxtxstate great stuff on Fri #SXSW: Marissa Mayer (Google), Tim O'Reilly (tech books/conferences) &amp; Matt Mullenweg (Wordpress)           \n",
       "\n",
       "              Product Sentiment   Brand  \\\n",
       "0  iPhone              Negative  Apple    \n",
       "1  iPad or iPhone App  Positive  Apple    \n",
       "2  iPad                Positive  Apple    \n",
       "3  iPad or iPhone App  Negative  Apple    \n",
       "4  Google              Positive  Google   \n",
       "\n",
       "                                                                                        Cleaned_Tweet  \\\n",
       "0  have iphone after hrs tweeting rise austin was dead need upgrade plugin stations                     \n",
       "1  know about awesome ipad iphone app that you likely appreciate for its design also they giving free   \n",
       "2  can not wait for ipad also they should sale them down                                                \n",
       "3  hope this year festival isn crashy this year iphone app                                              \n",
       "4  great stuff fri marissa mayer google tim reilly tech books conferences matt mullenweg wordpress      \n",
       "\n",
       "                                                                                         Preprocessed_Text  \n",
       "0  [iphon, hr, tweet, rise, austin, dead, need, upgrad, plugin, station]                                    \n",
       "1  [know, awesom, ipad, iphon, app, like, appreci, design, also, give, free]                                \n",
       "2  [wait, ipad, also, sale]                                                                                 \n",
       "3  [hope, year, festiv, crashi, year, iphon, app]                                                           \n",
       "4  [great, stuff, fri, marissa, mayer, googl, tim, reilli, tech, book, confer, matt, mullenweg, wordpress]  "
      ]
     },
     "execution_count": 186,
     "metadata": {},
     "output_type": "execute_result"
    }
   ],
   "source": [
    "df.head()\n"
   ]
  },
  {
   "cell_type": "code",
   "execution_count": 187,
   "metadata": {
    "scrolled": true
   },
   "outputs": [
    {
     "data": {
      "text/plain": [
       "<matplotlib.legend.Legend at 0x16339d46ac0>"
      ]
     },
     "execution_count": 187,
     "metadata": {},
     "output_type": "execute_result"
    },
    {
     "data": {
      "text/plain": [
       "<Figure size 1800x1080 with 0 Axes>"
      ]
     },
     "metadata": {},
     "output_type": "display_data"
    },
    {
     "data": {
      "image/png": "[encoded data removed]",
      "text/plain": [
       "<Figure size 432x288 with 1 Axes>"
      ]
     },
     "metadata": {
      "needs_background": "light"
     },
     "output_type": "display_data"
    }
   ],
   "source": [
    "grouped = df.groupby(['Sentiment', 'Brand']).count()['Cleaned_Tweet']\n",
    "plt.figure(figsize=(25, 15))\n",
    "fig = grouped.unstack().plot(kind='bar', stacked=True, align=\"center\")\n",
    "\n",
    "fig.set_title('Sentiment by Product')\n",
    "\n",
    "fig.set_xlabel('Sentiment')\n",
    "fig.set_ylabel('Occurrences by Brand')\n",
    "fig.legend(loc='upper right')\n",
    "# plt.savefig('Images/sentiment_bars')"
   ]
  },
  {
   "cell_type": "code",
   "execution_count": 188,
   "metadata": {},
   "outputs": [
    {
     "data": {
      "text/plain": [
       "<matplotlib.legend.Legend at 0x16336fe8d90>"
      ]
     },
     "execution_count": 188,
     "metadata": {},
     "output_type": "execute_result"
    },
    {
     "data": {
      "text/plain": [
       "<Figure size 1800x1080 with 0 Axes>"
      ]
     },
     "metadata": {},
     "output_type": "display_data"
    },
    {
     "data": {
      "image/png": "[encoded data removed]",
      "text/plain": [
       "<Figure size 432x288 with 1 Axes>"
      ]
     },
     "metadata": {
      "needs_background": "light"
     },
     "output_type": "display_data"
    }
   ],
   "source": [
    "grouped = df.groupby(['Brand','Sentiment']).count()['Cleaned_Tweet']\n",
    "plt.figure(figsize=(25, 15))\n",
    "fig = grouped.unstack().plot(kind='bar', stacked=True, align=\"center\")\n",
    "\n",
    "fig.set_title('Sentiment by Brand')\n",
    "\n",
    "fig.set_xlabel('Brand')\n",
    "fig.set_ylabel('Occurrences')\n",
    "fig.legend(loc='upper right')"
   ]
  },
  {
   "cell_type": "code",
   "execution_count": 189,
   "metadata": {
    "scrolled": true
   },
   "outputs": [
    {
     "data": {
      "text/plain": [
       "0       have iphone after hrs tweeting rise austin was dead need upgrade plugin stations                                             \n",
       "1       know about awesome ipad iphone app that you likely appreciate for its design also they giving free                           \n",
       "2       can not wait for ipad also they should sale them down                                                                        \n",
       "3       hope this year festival isn crashy this year iphone app                                                                      \n",
       "4       great stuff fri marissa mayer google tim reilly tech books conferences matt mullenweg wordpress                              \n",
       "                                                     ...                                                                             \n",
       "9088    ipad everywhere                                                                                                              \n",
       "9089    wave buzz interrupt your regularly scheduled geek programming with big news google circles                                   \n",
       "9090    google zeiger physician never reported potential yet fda relies physicians operating out data healthdev                      \n",
       "9091    some verizon iphone customers complained their time fell back hour this weekend course they were the new yorkers who attended\n",
       "9092    google tests check offers                                                                                                    \n",
       "Name: Cleaned_Tweet, Length: 9070, dtype: object"
      ]
     },
     "execution_count": 189,
     "metadata": {},
     "output_type": "execute_result"
    }
   ],
   "source": [
    "X"
   ]
  },
  {
   "cell_type": "code",
   "execution_count": 190,
   "metadata": {},
   "outputs": [
    {
     "data": {
      "text/html": [
       "<div>\n",
       "<style scoped>\n",
       "    .dataframe tbody tr th:only-of-type {\n",
       "        vertical-align: middle;\n",
       "    }\n",
       "\n",
       "    .dataframe tbody tr th {\n",
       "        vertical-align: top;\n",
       "    }\n",
       "\n",
       "    .dataframe thead th {\n",
       "        text-align: right;\n",
       "    }\n",
       "</style>\n",
       "<table border=\"1\" class=\"dataframe\">\n",
       "  <thead>\n",
       "    <tr style=\"text-align: right;\">\n",
       "      <th></th>\n",
       "      <th>Tweet</th>\n",
       "      <th>Product</th>\n",
       "      <th>Sentiment</th>\n",
       "      <th>Brand</th>\n",
       "      <th>Cleaned_Tweet</th>\n",
       "      <th>Preprocessed_Text</th>\n",
       "    </tr>\n",
       "  </thead>\n",
       "  <tbody>\n",
       "    <tr>\n",
       "      <th>0</th>\n",
       "      <td>.@wesley83 I have a 3G iPhone. After 3 hrs tweeting at #RISE_Austin, it was dead!  I need to upgrade. Plugin stations at #SXSW.</td>\n",
       "      <td>iPhone</td>\n",
       "      <td>Negative</td>\n",
       "      <td>Apple</td>\n",
       "      <td>have iphone after hrs tweeting rise austin was dead need upgrade plugin stations</td>\n",
       "      <td>[iphon, hr, tweet, rise, austin, dead, need, upgrad, plugin, station]</td>\n",
       "    </tr>\n",
       "    <tr>\n",
       "      <th>1</th>\n",
       "      <td>@jessedee Know about @fludapp ? Awesome iPad/iPhone app that you'll likely appreciate for its design. Also, they're giving free Ts at #SXSW</td>\n",
       "      <td>iPad or iPhone App</td>\n",
       "      <td>Positive</td>\n",
       "      <td>Apple</td>\n",
       "      <td>know about awesome ipad iphone app that you likely appreciate for its design also they giving free</td>\n",
       "      <td>[know, awesom, ipad, iphon, app, like, appreci, design, also, give, free]</td>\n",
       "    </tr>\n",
       "    <tr>\n",
       "      <th>2</th>\n",
       "      <td>@swonderlin Can not wait for #iPad 2 also. They should sale them down at #SXSW.</td>\n",
       "      <td>iPad</td>\n",
       "      <td>Positive</td>\n",
       "      <td>Apple</td>\n",
       "      <td>can not wait for ipad also they should sale them down</td>\n",
       "      <td>[wait, ipad, also, sale]</td>\n",
       "    </tr>\n",
       "    <tr>\n",
       "      <th>3</th>\n",
       "      <td>@sxsw I hope this year's festival isn't as crashy as this year's iPhone app. #sxsw</td>\n",
       "      <td>iPad or iPhone App</td>\n",
       "      <td>Negative</td>\n",
       "      <td>Apple</td>\n",
       "      <td>hope this year festival isn crashy this year iphone app</td>\n",
       "      <td>[hope, year, festiv, crashi, year, iphon, app]</td>\n",
       "    </tr>\n",
       "    <tr>\n",
       "      <th>4</th>\n",
       "      <td>@sxtxstate great stuff on Fri #SXSW: Marissa Mayer (Google), Tim O'Reilly (tech books/conferences) &amp;amp; Matt Mullenweg (Wordpress)</td>\n",
       "      <td>Google</td>\n",
       "      <td>Positive</td>\n",
       "      <td>Google</td>\n",
       "      <td>great stuff fri marissa mayer google tim reilly tech books conferences matt mullenweg wordpress</td>\n",
       "      <td>[great, stuff, fri, marissa, mayer, googl, tim, reilli, tech, book, confer, matt, mullenweg, wordpress]</td>\n",
       "    </tr>\n",
       "    <tr>\n",
       "      <th>...</th>\n",
       "      <td>...</td>\n",
       "      <td>...</td>\n",
       "      <td>...</td>\n",
       "      <td>...</td>\n",
       "      <td>...</td>\n",
       "      <td>...</td>\n",
       "    </tr>\n",
       "    <tr>\n",
       "      <th>9088</th>\n",
       "      <td>Ipad everywhere. #SXSW {link}</td>\n",
       "      <td>iPad</td>\n",
       "      <td>Positive</td>\n",
       "      <td>Apple</td>\n",
       "      <td>ipad everywhere</td>\n",
       "      <td>[ipad, everywher]</td>\n",
       "    </tr>\n",
       "    <tr>\n",
       "      <th>9089</th>\n",
       "      <td>Wave, buzz... RT @mention We interrupt your regularly scheduled #sxsw geek programming with big news {link}  #google #circles</td>\n",
       "      <td>Unknown</td>\n",
       "      <td>Neutral</td>\n",
       "      <td>Google</td>\n",
       "      <td>wave buzz interrupt your regularly scheduled geek programming with big news google circles</td>\n",
       "      <td>[wave, buzz, interrupt, regularli, schedul, geek, program, big, news, googl, circl]</td>\n",
       "    </tr>\n",
       "    <tr>\n",
       "      <th>9090</th>\n",
       "      <td>Google's Zeiger, a physician never reported potential AE. Yet FDA relies on physicians. &amp;quot;We're operating w/out data.&amp;quot; #sxsw #health2dev</td>\n",
       "      <td>Unknown</td>\n",
       "      <td>Neutral</td>\n",
       "      <td>Google</td>\n",
       "      <td>google zeiger physician never reported potential yet fda relies physicians operating out data healthdev</td>\n",
       "      <td>[googl, zeiger, physician, never, report, potenti, yet, fda, reli, physician, oper, data, healthdev]</td>\n",
       "    </tr>\n",
       "    <tr>\n",
       "      <th>9091</th>\n",
       "      <td>Some Verizon iPhone customers complained their time fell back an hour this weekend.  Of course they were the New Yorkers who attended #SXSW.</td>\n",
       "      <td>Unknown</td>\n",
       "      <td>Neutral</td>\n",
       "      <td>Apple</td>\n",
       "      <td>some verizon iphone customers complained their time fell back hour this weekend course they were the new yorkers who attended</td>\n",
       "      <td>[verizon, iphon, custom, complain, time, fell, back, hour, weekend, cours, new, yorker, attend]</td>\n",
       "    </tr>\n",
       "    <tr>\n",
       "      <th>9092</th>\n",
       "      <td>Ï¡Ïàü_ÊÎÒ£Áââ_£â_ÛâRT @mention Google Tests ÛÏCheck-in OffersÛ At #SXSW {link}</td>\n",
       "      <td>Unknown</td>\n",
       "      <td>Neutral</td>\n",
       "      <td>Google</td>\n",
       "      <td>google tests check offers</td>\n",
       "      <td>[googl, test, check, offer]</td>\n",
       "    </tr>\n",
       "  </tbody>\n",
       "</table>\n",
       "<p>9070 rows × 6 columns</p>\n",
       "</div>"
      ],
      "text/plain": [
       "                                                                                                                                                  Tweet  \\\n",
       "0     .@wesley83 I have a 3G iPhone. After 3 hrs tweeting at #RISE_Austin, it was dead!  I need to upgrade. Plugin stations at #SXSW.                     \n",
       "1     @jessedee Know about @fludapp ? Awesome iPad/iPhone app that you'll likely appreciate for its design. Also, they're giving free Ts at #SXSW         \n",
       "2     @swonderlin Can not wait for #iPad 2 also. They should sale them down at #SXSW.                                                                     \n",
       "3     @sxsw I hope this year's festival isn't as crashy as this year's iPhone app. #sxsw                                                                  \n",
       "4     @sxtxstate great stuff on Fri #SXSW: Marissa Mayer (Google), Tim O'Reilly (tech books/conferences) &amp; Matt Mullenweg (Wordpress)                 \n",
       "...                                                                                                                                   ...                 \n",
       "9088  Ipad everywhere. #SXSW {link}                                                                                                                       \n",
       "9089  Wave, buzz... RT @mention We interrupt your regularly scheduled #sxsw geek programming with big news {link}  #google #circles                       \n",
       "9090  Google's Zeiger, a physician never reported potential AE. Yet FDA relies on physicians. &quot;We're operating w/out data.&quot; #sxsw #health2dev   \n",
       "9091  Some Verizon iPhone customers complained their time fell back an hour this weekend.  Of course they were the New Yorkers who attended #SXSW.        \n",
       "9092  Ï¡Ïàü_ÊÎÒ£Áââ_£â_ÛâRT @mention Google Tests ÛÏCheck-in OffersÛ At #SXSW {link}                                            \n",
       "\n",
       "                 Product Sentiment   Brand  \\\n",
       "0     iPhone              Negative  Apple    \n",
       "1     iPad or iPhone App  Positive  Apple    \n",
       "2     iPad                Positive  Apple    \n",
       "3     iPad or iPhone App  Negative  Apple    \n",
       "4     Google              Positive  Google   \n",
       "...      ...                   ...     ...   \n",
       "9088  iPad                Positive  Apple    \n",
       "9089  Unknown             Neutral   Google   \n",
       "9090  Unknown             Neutral   Google   \n",
       "9091  Unknown             Neutral   Apple    \n",
       "9092  Unknown             Neutral   Google   \n",
       "\n",
       "                                                                                                                      Cleaned_Tweet  \\\n",
       "0     have iphone after hrs tweeting rise austin was dead need upgrade plugin stations                                                \n",
       "1     know about awesome ipad iphone app that you likely appreciate for its design also they giving free                              \n",
       "2     can not wait for ipad also they should sale them down                                                                           \n",
       "3     hope this year festival isn crashy this year iphone app                                                                         \n",
       "4     great stuff fri marissa mayer google tim reilly tech books conferences matt mullenweg wordpress                                 \n",
       "...                                                                                               ...                                 \n",
       "9088  ipad everywhere                                                                                                                 \n",
       "9089  wave buzz interrupt your regularly scheduled geek programming with big news google circles                                      \n",
       "9090  google zeiger physician never reported potential yet fda relies physicians operating out data healthdev                         \n",
       "9091  some verizon iphone customers complained their time fell back hour this weekend course they were the new yorkers who attended   \n",
       "9092  google tests check offers                                                                                                       \n",
       "\n",
       "                                                                                            Preprocessed_Text  \n",
       "0     [iphon, hr, tweet, rise, austin, dead, need, upgrad, plugin, station]                                    \n",
       "1     [know, awesom, ipad, iphon, app, like, appreci, design, also, give, free]                                \n",
       "2     [wait, ipad, also, sale]                                                                                 \n",
       "3     [hope, year, festiv, crashi, year, iphon, app]                                                           \n",
       "4     [great, stuff, fri, marissa, mayer, googl, tim, reilli, tech, book, confer, matt, mullenweg, wordpress]  \n",
       "...                                                                                                       ...  \n",
       "9088  [ipad, everywher]                                                                                        \n",
       "9089  [wave, buzz, interrupt, regularli, schedul, geek, program, big, news, googl, circl]                      \n",
       "9090  [googl, zeiger, physician, never, report, potenti, yet, fda, reli, physician, oper, data, healthdev]     \n",
       "9091  [verizon, iphon, custom, complain, time, fell, back, hour, weekend, cours, new, yorker, attend]          \n",
       "9092  [googl, test, check, offer]                                                                              \n",
       "\n",
       "[9070 rows x 6 columns]"
      ]
     },
     "execution_count": 190,
     "metadata": {},
     "output_type": "execute_result"
    }
   ],
   "source": [
    "df\n"
   ]
  },
  {
   "cell_type": "code",
   "execution_count": 191,
   "metadata": {},
   "outputs": [],
   "source": [
    "X = df['Cleaned_Tweet']\n",
    "y = df['Sentiment']\n",
    "X_train, X_test, y_train, y_test = train_test_split(X, y, random_state=42)"
   ]
  },
  {
   "cell_type": "code",
   "execution_count": 192,
   "metadata": {},
   "outputs": [],
   "source": [
    "# vectorizer = CountVectorizer()\n",
    "# X_train_vectorized = vectorizer.fit_transform(X_train)\n",
    "# X_test_vectorized = vectorizer.transform(X_test)"
   ]
  },
  {
   "cell_type": "code",
   "execution_count": 193,
   "metadata": {},
   "outputs": [],
   "source": [
    "tfidf = TfidfVectorizer(stop_words=stopwords_list, max_features=10)\n",
    "X_train_vectorized = tfidf.fit_transform(X_train)\n",
    "X_test_vectorized = tfidf.transform(X_test)"
   ]
  },
  {
   "cell_type": "code",
   "execution_count": 200,
   "metadata": {},
   "outputs": [
    {
     "data": {
      "text/plain": [
       "Index(['Tweet', 'Product', 'Sentiment', 'Brand', 'Cleaned_Tweet',\n",
       "       'Preprocessed_Text'],\n",
       "      dtype='object')"
      ]
     },
     "execution_count": 200,
     "metadata": {},
     "output_type": "execute_result"
    }
   ],
   "source": [
    "df.columns"
   ]
  },
  {
   "cell_type": "code",
   "execution_count": 211,
   "metadata": {
    "scrolled": true
   },
   "outputs": [
    {
     "data": {
      "text/html": [
       "<div>\n",
       "<style scoped>\n",
       "    .dataframe tbody tr th:only-of-type {\n",
       "        vertical-align: middle;\n",
       "    }\n",
       "\n",
       "    .dataframe tbody tr th {\n",
       "        vertical-align: top;\n",
       "    }\n",
       "\n",
       "    .dataframe thead th {\n",
       "        text-align: right;\n",
       "    }\n",
       "</style>\n",
       "<table border=\"1\" class=\"dataframe\">\n",
       "  <thead>\n",
       "    <tr style=\"text-align: right;\">\n",
       "      <th></th>\n",
       "      <th>app</th>\n",
       "      <th>apple</th>\n",
       "      <th>austin</th>\n",
       "      <th>circles</th>\n",
       "      <th>google</th>\n",
       "      <th>ipad</th>\n",
       "      <th>iphone</th>\n",
       "      <th>new</th>\n",
       "      <th>social</th>\n",
       "      <th>store</th>\n",
       "    </tr>\n",
       "  </thead>\n",
       "  <tbody>\n",
       "    <tr>\n",
       "      <th>0</th>\n",
       "      <td>0.0</td>\n",
       "      <td>0.000000</td>\n",
       "      <td>0.000000</td>\n",
       "      <td>0.000000</td>\n",
       "      <td>0.000000</td>\n",
       "      <td>0.000000</td>\n",
       "      <td>0.0</td>\n",
       "      <td>0.00000</td>\n",
       "      <td>0.000000</td>\n",
       "      <td>0.000000</td>\n",
       "    </tr>\n",
       "    <tr>\n",
       "      <th>1</th>\n",
       "      <td>0.0</td>\n",
       "      <td>0.490868</td>\n",
       "      <td>0.661806</td>\n",
       "      <td>0.000000</td>\n",
       "      <td>0.000000</td>\n",
       "      <td>0.000000</td>\n",
       "      <td>0.0</td>\n",
       "      <td>0.00000</td>\n",
       "      <td>0.000000</td>\n",
       "      <td>0.566623</td>\n",
       "    </tr>\n",
       "    <tr>\n",
       "      <th>2</th>\n",
       "      <td>0.0</td>\n",
       "      <td>0.450123</td>\n",
       "      <td>0.606874</td>\n",
       "      <td>0.000000</td>\n",
       "      <td>0.000000</td>\n",
       "      <td>0.398897</td>\n",
       "      <td>0.0</td>\n",
       "      <td>0.00000</td>\n",
       "      <td>0.000000</td>\n",
       "      <td>0.519591</td>\n",
       "    </tr>\n",
       "    <tr>\n",
       "      <th>3</th>\n",
       "      <td>0.0</td>\n",
       "      <td>0.000000</td>\n",
       "      <td>0.000000</td>\n",
       "      <td>0.000000</td>\n",
       "      <td>1.000000</td>\n",
       "      <td>0.000000</td>\n",
       "      <td>0.0</td>\n",
       "      <td>0.00000</td>\n",
       "      <td>0.000000</td>\n",
       "      <td>0.000000</td>\n",
       "    </tr>\n",
       "    <tr>\n",
       "      <th>4</th>\n",
       "      <td>0.0</td>\n",
       "      <td>0.000000</td>\n",
       "      <td>0.000000</td>\n",
       "      <td>0.565044</td>\n",
       "      <td>0.355615</td>\n",
       "      <td>0.000000</td>\n",
       "      <td>0.0</td>\n",
       "      <td>0.48663</td>\n",
       "      <td>0.563431</td>\n",
       "      <td>0.000000</td>\n",
       "    </tr>\n",
       "    <tr>\n",
       "      <th>...</th>\n",
       "      <td>...</td>\n",
       "      <td>...</td>\n",
       "      <td>...</td>\n",
       "      <td>...</td>\n",
       "      <td>...</td>\n",
       "      <td>...</td>\n",
       "      <td>...</td>\n",
       "      <td>...</td>\n",
       "      <td>...</td>\n",
       "      <td>...</td>\n",
       "    </tr>\n",
       "    <tr>\n",
       "      <th>6797</th>\n",
       "      <td>0.0</td>\n",
       "      <td>0.000000</td>\n",
       "      <td>0.000000</td>\n",
       "      <td>0.000000</td>\n",
       "      <td>0.000000</td>\n",
       "      <td>0.000000</td>\n",
       "      <td>0.0</td>\n",
       "      <td>0.00000</td>\n",
       "      <td>0.000000</td>\n",
       "      <td>1.000000</td>\n",
       "    </tr>\n",
       "    <tr>\n",
       "      <th>6798</th>\n",
       "      <td>0.0</td>\n",
       "      <td>0.000000</td>\n",
       "      <td>0.000000</td>\n",
       "      <td>0.000000</td>\n",
       "      <td>1.000000</td>\n",
       "      <td>0.000000</td>\n",
       "      <td>0.0</td>\n",
       "      <td>0.00000</td>\n",
       "      <td>0.000000</td>\n",
       "      <td>0.000000</td>\n",
       "    </tr>\n",
       "    <tr>\n",
       "      <th>6799</th>\n",
       "      <td>0.0</td>\n",
       "      <td>0.654774</td>\n",
       "      <td>0.000000</td>\n",
       "      <td>0.000000</td>\n",
       "      <td>0.000000</td>\n",
       "      <td>0.000000</td>\n",
       "      <td>0.0</td>\n",
       "      <td>0.00000</td>\n",
       "      <td>0.000000</td>\n",
       "      <td>0.755825</td>\n",
       "    </tr>\n",
       "    <tr>\n",
       "      <th>6800</th>\n",
       "      <td>0.0</td>\n",
       "      <td>0.000000</td>\n",
       "      <td>0.000000</td>\n",
       "      <td>0.000000</td>\n",
       "      <td>0.000000</td>\n",
       "      <td>0.000000</td>\n",
       "      <td>0.0</td>\n",
       "      <td>0.00000</td>\n",
       "      <td>0.000000</td>\n",
       "      <td>0.000000</td>\n",
       "    </tr>\n",
       "    <tr>\n",
       "      <th>6801</th>\n",
       "      <td>0.0</td>\n",
       "      <td>0.000000</td>\n",
       "      <td>0.000000</td>\n",
       "      <td>0.000000</td>\n",
       "      <td>0.000000</td>\n",
       "      <td>0.000000</td>\n",
       "      <td>1.0</td>\n",
       "      <td>0.00000</td>\n",
       "      <td>0.000000</td>\n",
       "      <td>0.000000</td>\n",
       "    </tr>\n",
       "  </tbody>\n",
       "</table>\n",
       "<p>6802 rows × 10 columns</p>\n",
       "</div>"
      ],
      "text/plain": [
       "      app     apple    austin   circles    google      ipad  iphone      new  \\\n",
       "0     0.0  0.000000  0.000000  0.000000  0.000000  0.000000  0.0     0.00000   \n",
       "1     0.0  0.490868  0.661806  0.000000  0.000000  0.000000  0.0     0.00000   \n",
       "2     0.0  0.450123  0.606874  0.000000  0.000000  0.398897  0.0     0.00000   \n",
       "3     0.0  0.000000  0.000000  0.000000  1.000000  0.000000  0.0     0.00000   \n",
       "4     0.0  0.000000  0.000000  0.565044  0.355615  0.000000  0.0     0.48663   \n",
       "...   ...       ...       ...       ...       ...       ...  ...         ...   \n",
       "6797  0.0  0.000000  0.000000  0.000000  0.000000  0.000000  0.0     0.00000   \n",
       "6798  0.0  0.000000  0.000000  0.000000  1.000000  0.000000  0.0     0.00000   \n",
       "6799  0.0  0.654774  0.000000  0.000000  0.000000  0.000000  0.0     0.00000   \n",
       "6800  0.0  0.000000  0.000000  0.000000  0.000000  0.000000  0.0     0.00000   \n",
       "6801  0.0  0.000000  0.000000  0.000000  0.000000  0.000000  1.0     0.00000   \n",
       "\n",
       "        social     store  \n",
       "0     0.000000  0.000000  \n",
       "1     0.000000  0.566623  \n",
       "2     0.000000  0.519591  \n",
       "3     0.000000  0.000000  \n",
       "4     0.563431  0.000000  \n",
       "...        ...       ...  \n",
       "6797  0.000000  1.000000  \n",
       "6798  0.000000  0.000000  \n",
       "6799  0.000000  0.755825  \n",
       "6800  0.000000  0.000000  \n",
       "6801  0.000000  0.000000  \n",
       "\n",
       "[6802 rows x 10 columns]"
      ]
     },
     "execution_count": 211,
     "metadata": {},
     "output_type": "execute_result"
    }
   ],
   "source": [
    "# Visually inspect the 10 most common words\n",
    "pd.DataFrame.sparse.from_spmatrix(X_train_vectorized, columns=tfidf.get_feature_names())"
   ]
  },
  {
   "cell_type": "markdown",
   "metadata": {},
   "source": [
    "# Modeling"
   ]
  },
  {
   "cell_type": "markdown",
   "metadata": {},
   "source": [
    "### Baseline"
   ]
  },
  {
   "cell_type": "code",
   "execution_count": 215,
   "metadata": {},
   "outputs": [
    {
     "data": {
      "text/plain": [
       "0.6084975007350779"
      ]
     },
     "execution_count": 215,
     "metadata": {},
     "output_type": "execute_result"
    }
   ],
   "source": [
    "baseline_model = MultinomialNB()\n",
    "baseline_model.fit(X_train_vectorized, y_train)\n",
    "baseline_model.score(X_train_vectorized, y_train)"
   ]
  },
  {
   "cell_type": "markdown",
   "metadata": {},
   "source": [
    "### RandomForest"
   ]
  },
  {
   "cell_type": "code",
   "execution_count": 219,
   "metadata": {},
   "outputs": [
    {
     "data": {
      "text/plain": [
       "0.6281975889444281"
      ]
     },
     "execution_count": 219,
     "metadata": {},
     "output_type": "execute_result"
    }
   ],
   "source": [
    "rf = RandomForestClassifier()\n",
    "rf.fit(X_train_vectorized, y_train)\n",
    "rf.score(X_train_vectorized, y_train)"
   ]
  },
  {
   "cell_type": "markdown",
   "metadata": {},
   "source": [
    "### DecisionTree"
   ]
  },
  {
   "cell_type": "code",
   "execution_count": 216,
   "metadata": {},
   "outputs": [
    {
     "data": {
      "text/plain": [
       "0.6281975889444281"
      ]
     },
     "execution_count": 216,
     "metadata": {},
     "output_type": "execute_result"
    }
   ],
   "source": [
    "dt = DecisionTreeClassifier()\n",
    "dt.fit(X_train_vectorized, y_train)\n",
    "dt.score(X_train_vectorized, y_train)"
   ]
  },
  {
   "cell_type": "code",
   "execution_count": 218,
   "metadata": {},
   "outputs": [
    {
     "data": {
      "image/png": "[encoded data removed]",
      "text/plain": [
       "<Figure size 576x576 with 2 Axes>"
      ]
     },
     "metadata": {
      "needs_background": "light"
     },
     "output_type": "display_data"
    }
   ],
   "source": [
    "from sklearn.metrics import plot_confusion_matrix\n",
    "fig, ax = plt.subplots(figsize=(8,8))\n",
    "plot_confusion_matrix(dt, X_test_vectorized, y_test, ax=ax, cmap=\"cividis\");"
   ]
  },
  {
   "cell_type": "markdown",
   "metadata": {},
   "source": [
    "### XGBoost"
   ]
  },
  {
   "cell_type": "code",
   "execution_count": 229,
   "metadata": {},
   "outputs": [],
   "source": [
    "from xgboost import XGBClassifier"
   ]
  },
  {
   "cell_type": "code",
   "execution_count": 231,
   "metadata": {},
   "outputs": [
    {
     "data": {
      "text/plain": [
       "0.6279035577771244"
      ]
     },
     "execution_count": 231,
     "metadata": {},
     "output_type": "execute_result"
    }
   ],
   "source": [
    "xgb = XGBClassifier(eval_metric='mlogloss')\n",
    "xgb.fit(X_train_vectorized, y_train)\n",
    "xgb.score(X_train_vectorized, y_train)"
   ]
  },
  {
   "cell_type": "code",
   "execution_count": null,
   "metadata": {},
   "outputs": [],
   "source": []
  }
 ],
 "metadata": {
  "kernelspec": {
   "display_name": "Python (learn-env)",
   "language": "python",
   "name": "learn-env"
  },
  "language_info": {
   "codemirror_mode": {
    "name": "ipython",
    "version": 3
   },
   "file_extension": ".py",
   "mimetype": "text/x-python",
   "name": "python",
   "nbconvert_exporter": "python",
   "pygments_lexer": "ipython3",
   "version": "3.8.5"
  },
  "varInspector": {
   "cols": {
    "lenName": 16,
    "lenType": 16,
    "lenVar": 40
   },
   "kernels_config": {
    "python": {
     "delete_cmd_postfix": "",
     "delete_cmd_prefix": "del ",
     "library": "var_list.py",
     "varRefreshCmd": "print(var_dic_list())"
    },
    "r": {
     "delete_cmd_postfix": ") ",
     "delete_cmd_prefix": "rm(",
     "library": "var_list.r",
     "varRefreshCmd": "cat(var_dic_list()) "
    }
   },
   "types_to_exclude": [
    "module",
    "function",
    "builtin_function_or_method",
    "instance",
    "_Feature"
   ],
   "window_display": false
  }
 },
 "nbformat": 4,
 "nbformat_minor": 4
}
